{
 "cells": [
  {
   "cell_type": "code",
   "execution_count": 798,
   "metadata": {},
   "outputs": [
    {
     "name": "stdout",
     "output_type": "stream",
     "text": [
      "Requirement already satisfied: bs4 in c:\\users\\lenovo\\anaconda3\\lib\\site-packages (0.0.1)\n",
      "Requirement already satisfied: beautifulsoup4 in c:\\users\\lenovo\\anaconda3\\lib\\site-packages (from bs4) (4.9.1)\n",
      "Requirement already satisfied: soupsieve>1.2 in c:\\users\\lenovo\\anaconda3\\lib\\site-packages (from beautifulsoup4->bs4) (2.0.1)\n",
      "Requirement already satisfied: requests in c:\\users\\lenovo\\anaconda3\\lib\\site-packages (2.24.0)\n",
      "Requirement already satisfied: idna<3,>=2.5 in c:\\users\\lenovo\\anaconda3\\lib\\site-packages (from requests) (2.10)\n",
      "Requirement already satisfied: certifi>=2017.4.17 in c:\\users\\lenovo\\anaconda3\\lib\\site-packages (from requests) (2020.6.20)\n",
      "Requirement already satisfied: urllib3!=1.25.0,!=1.25.1,<1.26,>=1.21.1 in c:\\users\\lenovo\\anaconda3\\lib\\site-packages (from requests) (1.25.9)\n",
      "Requirement already satisfied: chardet<4,>=3.0.2 in c:\\users\\lenovo\\anaconda3\\lib\\site-packages (from requests) (3.0.4)\n"
     ]
    }
   ],
   "source": [
    "!pip install bs4\n",
    "!pip install requests"
   ]
  },
  {
   "cell_type": "markdown",
   "metadata": {},
   "source": [
    "# 1) Write a python program to display all the header tags from ‘en.wikipedia.org/wiki/Main_Page’."
   ]
  },
  {
   "cell_type": "code",
   "execution_count": 799,
   "metadata": {},
   "outputs": [],
   "source": [
    "from urllib.request import urlopen\n",
    "from bs4 import BeautifulSoup"
   ]
  },
  {
   "cell_type": "code",
   "execution_count": 800,
   "metadata": {},
   "outputs": [],
   "source": [
    "html=urlopen('https://en.wikipedia.org/wiki/Main_Page')"
   ]
  },
  {
   "cell_type": "code",
   "execution_count": 801,
   "metadata": {},
   "outputs": [],
   "source": [
    "bs=BeautifulSoup(html,\"html.parser\")"
   ]
  },
  {
   "cell_type": "code",
   "execution_count": 802,
   "metadata": {},
   "outputs": [],
   "source": [
    "titles=bs.find_all(['h1','h2','h3','h4','h5','h6'])"
   ]
  },
  {
   "cell_type": "code",
   "execution_count": 803,
   "metadata": {},
   "outputs": [
    {
     "name": "stdout",
     "output_type": "stream",
     "text": [
      "List all the header tags :\n",
      "\n",
      "<h1 class=\"firstHeading\" id=\"firstHeading\" lang=\"en\">Main Page</h1>\n",
      "\n",
      "<h2 class=\"mp-h2\" id=\"mp-tfa-h2\"><span id=\"From_today.27s_featured_article\"></span><span class=\"mw-headline\" id=\"From_today's_featured_article\">From today's featured article</span></h2>\n",
      "\n",
      "<h2 class=\"mp-h2\" id=\"mp-dyk-h2\"><span class=\"mw-headline\" id=\"Did_you_know_...\">Did you know ...</span></h2>\n",
      "\n",
      "<h2 class=\"mp-h2\" id=\"mp-itn-h2\"><span class=\"mw-headline\" id=\"In_the_news\">In the news</span></h2>\n",
      "\n",
      "<h2 class=\"mp-h2\" id=\"mp-otd-h2\"><span class=\"mw-headline\" id=\"On_this_day\">On this day</span></h2>\n",
      "\n",
      "<h2 class=\"mp-h2\" id=\"mp-tfl-h2\"><span id=\"From_today.27s_featured_list\"></span><span class=\"mw-headline\" id=\"From_today's_featured_list\">From today's featured list</span></h2>\n",
      "\n",
      "<h2 class=\"mp-h2\" id=\"mp-tfp-h2\"><span id=\"Today.27s_featured_picture\"></span><span class=\"mw-headline\" id=\"Today's_featured_picture\">Today's featured picture</span></h2>\n",
      "\n",
      "<h2 class=\"mp-h2\" id=\"mp-other\"><span class=\"mw-headline\" id=\"Other_areas_of_Wikipedia\">Other areas of Wikipedia</span></h2>\n",
      "\n",
      "<h2 class=\"mp-h2\" id=\"mp-sister\"><span id=\"Wikipedia.27s_sister_projects\"></span><span class=\"mw-headline\" id=\"Wikipedia's_sister_projects\">Wikipedia's sister projects</span></h2>\n",
      "\n",
      "<h2 class=\"mp-h2\" id=\"mp-lang\"><span class=\"mw-headline\" id=\"Wikipedia_languages\">Wikipedia languages</span></h2>\n",
      "\n",
      "<h2>Navigation menu</h2>\n",
      "\n",
      "<h3 id=\"p-personal-label\">\n",
      "<span>Personal tools</span>\n",
      "</h3>\n",
      "\n",
      "<h3 id=\"p-namespaces-label\">\n",
      "<span>Namespaces</span>\n",
      "</h3>\n",
      "\n",
      "<h3 id=\"p-variants-label\">\n",
      "<span>Variants</span>\n",
      "</h3>\n",
      "\n",
      "<h3 id=\"p-views-label\">\n",
      "<span>Views</span>\n",
      "</h3>\n",
      "\n",
      "<h3 id=\"p-cactions-label\">\n",
      "<span>More</span>\n",
      "</h3>\n",
      "\n",
      "<h3>\n",
      "<label for=\"searchInput\">Search</label>\n",
      "</h3>\n",
      "\n",
      "<h3 id=\"p-navigation-label\">\n",
      "<span>Navigation</span>\n",
      "</h3>\n",
      "\n",
      "<h3 id=\"p-interaction-label\">\n",
      "<span>Contribute</span>\n",
      "</h3>\n",
      "\n",
      "<h3 id=\"p-tb-label\">\n",
      "<span>Tools</span>\n",
      "</h3>\n",
      "\n",
      "<h3 id=\"p-coll-print_export-label\">\n",
      "<span>Print/export</span>\n",
      "</h3>\n",
      "\n",
      "<h3 id=\"p-wikibase-otherprojects-label\">\n",
      "<span>In other projects</span>\n",
      "</h3>\n",
      "\n",
      "<h3 id=\"p-lang-label\">\n",
      "<span>Languages</span>\n",
      "</h3>\n"
     ]
    }
   ],
   "source": [
    "print('List all the header tags :', *titles, sep='\\n\\n')"
   ]
  },
  {
   "cell_type": "markdown",
   "metadata": {},
   "source": [
    "# 2)Write a python program to display IMDB’s Top rated 100 movies’ data (i.e. Name, IMDB rating, Year of release) and save it in form of a CSV file."
   ]
  },
  {
   "cell_type": "code",
   "execution_count": 804,
   "metadata": {},
   "outputs": [],
   "source": [
    "import pandas as pd\n",
    "import numpy as np\n",
    "import requests\n",
    "from requests import get\n",
    "from bs4 import BeautifulSoup"
   ]
  },
  {
   "cell_type": "code",
   "execution_count": 805,
   "metadata": {},
   "outputs": [],
   "source": [
    "page=requests.get(\"https://www.imdb.com/chart/top/\")"
   ]
  },
  {
   "cell_type": "code",
   "execution_count": 806,
   "metadata": {},
   "outputs": [],
   "source": [
    "soup=BeautifulSoup(page.content,'html.parser')"
   ]
  },
  {
   "cell_type": "code",
   "execution_count": 807,
   "metadata": {},
   "outputs": [],
   "source": [
    "Names=[]\n",
    "Years=[]\n",
    "IMDB_ratings=[]"
   ]
  },
  {
   "cell_type": "code",
   "execution_count": 808,
   "metadata": {},
   "outputs": [],
   "source": [
    "names=soup.find_all('td',class_=\"titleColumn\")"
   ]
  },
  {
   "cell_type": "code",
   "execution_count": 809,
   "metadata": {},
   "outputs": [],
   "source": [
    "for i in names:\n",
    "    Names.append(i.get_text().replace('\\n',''))\n",
    "    Names[0:3]"
   ]
  },
  {
   "cell_type": "code",
   "execution_count": 810,
   "metadata": {},
   "outputs": [
    {
     "name": "stdout",
     "output_type": "stream",
     "text": [
      "250\n"
     ]
    }
   ],
   "source": [
    "print(len(Names))"
   ]
  },
  {
   "cell_type": "code",
   "execution_count": 811,
   "metadata": {},
   "outputs": [],
   "source": [
    "year=soup.find_all('span',class_=\"secondaryInfo\")"
   ]
  },
  {
   "cell_type": "code",
   "execution_count": 812,
   "metadata": {},
   "outputs": [],
   "source": [
    "for i in year:\n",
    "    Years.append(i.get_text())\n",
    "    Years[0:3]"
   ]
  },
  {
   "cell_type": "code",
   "execution_count": 813,
   "metadata": {},
   "outputs": [
    {
     "name": "stdout",
     "output_type": "stream",
     "text": [
      "250\n"
     ]
    }
   ],
   "source": [
    "print(len(Years))"
   ]
  },
  {
   "cell_type": "code",
   "execution_count": 814,
   "metadata": {},
   "outputs": [],
   "source": [
    "ratings=soup.find_all('td',class_=\"ratingColumn imdbRating\")"
   ]
  },
  {
   "cell_type": "code",
   "execution_count": 815,
   "metadata": {},
   "outputs": [
    {
     "name": "stdout",
     "output_type": "stream",
     "text": [
      "9.2\n",
      "9.1\n",
      "9.0\n",
      "9.0\n",
      "8.9\n",
      "8.9\n",
      "8.9\n",
      "8.8\n",
      "8.8\n",
      "8.8\n",
      "8.8\n",
      "8.8\n",
      "8.7\n",
      "8.7\n",
      "8.7\n",
      "8.6\n",
      "8.6\n",
      "8.6\n",
      "8.6\n",
      "8.6\n",
      "8.6\n",
      "8.6\n",
      "8.6\n",
      "8.6\n",
      "8.6\n",
      "8.6\n",
      "8.5\n",
      "8.5\n",
      "8.5\n",
      "8.5\n",
      "8.5\n",
      "8.5\n",
      "8.5\n",
      "8.5\n",
      "8.5\n",
      "8.5\n",
      "8.5\n",
      "8.5\n",
      "8.5\n",
      "8.5\n",
      "8.5\n",
      "8.5\n",
      "8.5\n",
      "8.5\n",
      "8.5\n",
      "8.5\n",
      "8.5\n",
      "8.4\n",
      "8.4\n",
      "8.4\n",
      "8.4\n",
      "8.4\n",
      "8.4\n",
      "8.4\n",
      "8.4\n",
      "8.4\n",
      "8.4\n",
      "8.4\n",
      "8.4\n",
      "8.4\n",
      "8.4\n",
      "8.4\n",
      "8.4\n",
      "8.4\n",
      "8.4\n",
      "8.4\n",
      "8.3\n",
      "8.3\n",
      "8.3\n",
      "8.3\n",
      "8.3\n",
      "8.3\n",
      "8.3\n",
      "8.3\n",
      "8.3\n",
      "8.3\n",
      "8.3\n",
      "8.3\n",
      "8.3\n",
      "8.3\n",
      "8.3\n",
      "8.3\n",
      "8.3\n",
      "8.3\n",
      "8.3\n",
      "8.3\n",
      "8.3\n",
      "8.3\n",
      "8.3\n",
      "8.3\n",
      "8.3\n",
      "8.3\n",
      "8.3\n",
      "8.3\n",
      "8.3\n",
      "8.3\n",
      "8.3\n",
      "8.2\n",
      "8.2\n",
      "8.2\n",
      "8.2\n",
      "8.2\n",
      "8.2\n",
      "8.2\n",
      "8.2\n",
      "8.2\n",
      "8.2\n",
      "8.2\n",
      "8.2\n",
      "8.2\n",
      "8.2\n",
      "8.2\n",
      "8.2\n",
      "8.2\n",
      "8.2\n",
      "8.2\n",
      "8.2\n",
      "8.2\n",
      "8.2\n",
      "8.2\n",
      "8.2\n",
      "8.2\n",
      "8.2\n",
      "8.2\n",
      "8.2\n",
      "8.2\n",
      "8.2\n",
      "8.2\n",
      "8.2\n",
      "8.2\n",
      "8.2\n",
      "8.2\n",
      "8.2\n",
      "8.2\n",
      "8.2\n",
      "8.2\n",
      "8.2\n",
      "8.2\n",
      "8.2\n",
      "8.2\n",
      "8.2\n",
      "8.2\n",
      "8.1\n",
      "8.1\n",
      "8.1\n",
      "8.1\n",
      "8.1\n",
      "8.1\n",
      "8.1\n",
      "8.1\n",
      "8.1\n",
      "8.1\n",
      "8.1\n",
      "8.1\n",
      "8.1\n",
      "8.1\n",
      "8.1\n",
      "8.1\n",
      "8.1\n",
      "8.1\n",
      "8.1\n",
      "8.1\n",
      "8.1\n",
      "8.1\n",
      "8.1\n",
      "8.1\n",
      "8.1\n",
      "8.1\n",
      "8.1\n",
      "8.1\n",
      "8.1\n",
      "8.1\n",
      "8.1\n",
      "8.1\n",
      "8.1\n",
      "8.1\n",
      "8.1\n",
      "8.1\n",
      "8.1\n",
      "8.1\n",
      "8.1\n",
      "8.1\n",
      "8.1\n",
      "8.1\n",
      "8.1\n",
      "8.1\n",
      "8.1\n",
      "8.1\n",
      "8.1\n",
      "8.1\n",
      "8.1\n",
      "8.1\n",
      "8.1\n",
      "8.1\n",
      "8.1\n",
      "8.1\n",
      "8.1\n",
      "8.1\n",
      "8.1\n",
      "8.1\n",
      "8.1\n",
      "8.1\n",
      "8.1\n",
      "8.1\n",
      "8.1\n",
      "8.1\n",
      "8.1\n",
      "8.1\n",
      "8.1\n",
      "8.1\n",
      "8.1\n",
      "8.1\n",
      "8.1\n",
      "8.1\n",
      "8.1\n",
      "8.1\n",
      "8.0\n",
      "8.0\n",
      "8.0\n",
      "8.0\n",
      "8.0\n",
      "8.0\n",
      "8.0\n",
      "8.0\n",
      "8.0\n",
      "8.0\n",
      "8.0\n",
      "8.0\n",
      "8.0\n",
      "8.0\n",
      "8.0\n",
      "8.0\n",
      "8.0\n",
      "8.0\n",
      "8.0\n",
      "8.0\n",
      "8.0\n",
      "8.0\n",
      "8.0\n",
      "8.0\n",
      "8.0\n",
      "8.0\n",
      "8.0\n",
      "8.0\n",
      "8.0\n",
      "8.0\n",
      "8.0\n",
      "8.0\n",
      "8.0\n",
      "8.0\n"
     ]
    }
   ],
   "source": [
    "for i in ratings:\n",
    "    full_ratings=\"\"\n",
    "    for j in i.find_all('strong'):\n",
    "        full_ratings=full_ratings+\"\"+j.get_text()\n",
    "        print(full_ratings)\n",
    "        IMDB_ratings.append(full_ratings)\n",
    "        ratings[0:3]"
   ]
  },
  {
   "cell_type": "code",
   "execution_count": 816,
   "metadata": {},
   "outputs": [
    {
     "name": "stdout",
     "output_type": "stream",
     "text": [
      "250\n"
     ]
    }
   ],
   "source": [
    "print(len(IMDB_ratings))"
   ]
  },
  {
   "cell_type": "code",
   "execution_count": 817,
   "metadata": {},
   "outputs": [],
   "source": [
    "import pandas as pd\n",
    "movies=pd.DataFrame({})\n",
    "movies['names']=Names[:100]\n",
    "movies['years']=Years[:100]\n",
    "movies['ratings']=IMDB_ratings[:100]"
   ]
  },
  {
   "cell_type": "code",
   "execution_count": 818,
   "metadata": {},
   "outputs": [
    {
     "data": {
      "text/html": [
       "<div>\n",
       "<style scoped>\n",
       "    .dataframe tbody tr th:only-of-type {\n",
       "        vertical-align: middle;\n",
       "    }\n",
       "\n",
       "    .dataframe tbody tr th {\n",
       "        vertical-align: top;\n",
       "    }\n",
       "\n",
       "    .dataframe thead th {\n",
       "        text-align: right;\n",
       "    }\n",
       "</style>\n",
       "<table border=\"1\" class=\"dataframe\">\n",
       "  <thead>\n",
       "    <tr style=\"text-align: right;\">\n",
       "      <th></th>\n",
       "      <th>names</th>\n",
       "      <th>years</th>\n",
       "      <th>ratings</th>\n",
       "    </tr>\n",
       "  </thead>\n",
       "  <tbody>\n",
       "    <tr>\n",
       "      <th>0</th>\n",
       "      <td>1.      The Shawshank Redemption(1994)</td>\n",
       "      <td>(1994)</td>\n",
       "      <td>9.2</td>\n",
       "    </tr>\n",
       "    <tr>\n",
       "      <th>1</th>\n",
       "      <td>2.      The Godfather(1972)</td>\n",
       "      <td>(1972)</td>\n",
       "      <td>9.1</td>\n",
       "    </tr>\n",
       "    <tr>\n",
       "      <th>2</th>\n",
       "      <td>3.      The Godfather: Part II(1974)</td>\n",
       "      <td>(1974)</td>\n",
       "      <td>9.0</td>\n",
       "    </tr>\n",
       "    <tr>\n",
       "      <th>3</th>\n",
       "      <td>4.      The Dark Knight(2008)</td>\n",
       "      <td>(2008)</td>\n",
       "      <td>9.0</td>\n",
       "    </tr>\n",
       "    <tr>\n",
       "      <th>4</th>\n",
       "      <td>5.      12 Angry Men(1957)</td>\n",
       "      <td>(1957)</td>\n",
       "      <td>8.9</td>\n",
       "    </tr>\n",
       "    <tr>\n",
       "      <th>...</th>\n",
       "      <td>...</td>\n",
       "      <td>...</td>\n",
       "      <td>...</td>\n",
       "    </tr>\n",
       "    <tr>\n",
       "      <th>95</th>\n",
       "      <td>96.      Citizen Kane(1941)</td>\n",
       "      <td>(1941)</td>\n",
       "      <td>8.3</td>\n",
       "    </tr>\n",
       "    <tr>\n",
       "      <th>96</th>\n",
       "      <td>97.      Dangal(2016)</td>\n",
       "      <td>(2016)</td>\n",
       "      <td>8.3</td>\n",
       "    </tr>\n",
       "    <tr>\n",
       "      <th>97</th>\n",
       "      <td>98.      Full Metal Jacket(1987)</td>\n",
       "      <td>(1987)</td>\n",
       "      <td>8.2</td>\n",
       "    </tr>\n",
       "    <tr>\n",
       "      <th>98</th>\n",
       "      <td>99.      Ladri di biciclette(1948)</td>\n",
       "      <td>(1948)</td>\n",
       "      <td>8.2</td>\n",
       "    </tr>\n",
       "    <tr>\n",
       "      <th>99</th>\n",
       "      <td>100.      Singin' in the Rain(1952)</td>\n",
       "      <td>(1952)</td>\n",
       "      <td>8.2</td>\n",
       "    </tr>\n",
       "  </tbody>\n",
       "</table>\n",
       "<p>100 rows × 3 columns</p>\n",
       "</div>"
      ],
      "text/plain": [
       "                                           names   years ratings\n",
       "0         1.      The Shawshank Redemption(1994)  (1994)     9.2\n",
       "1                    2.      The Godfather(1972)  (1972)     9.1\n",
       "2           3.      The Godfather: Part II(1974)  (1974)     9.0\n",
       "3                  4.      The Dark Knight(2008)  (2008)     9.0\n",
       "4                     5.      12 Angry Men(1957)  (1957)     8.9\n",
       "..                                           ...     ...     ...\n",
       "95                   96.      Citizen Kane(1941)  (1941)     8.3\n",
       "96                         97.      Dangal(2016)  (2016)     8.3\n",
       "97              98.      Full Metal Jacket(1987)  (1987)     8.2\n",
       "98            99.      Ladri di biciclette(1948)  (1948)     8.2\n",
       "99           100.      Singin' in the Rain(1952)  (1952)     8.2\n",
       "\n",
       "[100 rows x 3 columns]"
      ]
     },
     "execution_count": 818,
     "metadata": {},
     "output_type": "execute_result"
    }
   ],
   "source": [
    "movies"
   ]
  },
  {
   "cell_type": "code",
   "execution_count": 819,
   "metadata": {},
   "outputs": [],
   "source": [
    "movies.to_csv('imdb_movies')"
   ]
  },
  {
   "cell_type": "code",
   "execution_count": 820,
   "metadata": {},
   "outputs": [
    {
     "data": {
      "text/html": [
       "<div>\n",
       "<style scoped>\n",
       "    .dataframe tbody tr th:only-of-type {\n",
       "        vertical-align: middle;\n",
       "    }\n",
       "\n",
       "    .dataframe tbody tr th {\n",
       "        vertical-align: top;\n",
       "    }\n",
       "\n",
       "    .dataframe thead th {\n",
       "        text-align: right;\n",
       "    }\n",
       "</style>\n",
       "<table border=\"1\" class=\"dataframe\">\n",
       "  <thead>\n",
       "    <tr style=\"text-align: right;\">\n",
       "      <th></th>\n",
       "      <th>Unnamed: 0</th>\n",
       "      <th>names</th>\n",
       "      <th>years</th>\n",
       "      <th>ratings</th>\n",
       "    </tr>\n",
       "  </thead>\n",
       "  <tbody>\n",
       "    <tr>\n",
       "      <th>0</th>\n",
       "      <td>0</td>\n",
       "      <td>1.      The Shawshank Redemption(1994)</td>\n",
       "      <td>(1994)</td>\n",
       "      <td>9.2</td>\n",
       "    </tr>\n",
       "    <tr>\n",
       "      <th>1</th>\n",
       "      <td>1</td>\n",
       "      <td>2.      The Godfather(1972)</td>\n",
       "      <td>(1972)</td>\n",
       "      <td>9.1</td>\n",
       "    </tr>\n",
       "    <tr>\n",
       "      <th>2</th>\n",
       "      <td>2</td>\n",
       "      <td>3.      The Godfather: Part II(1974)</td>\n",
       "      <td>(1974)</td>\n",
       "      <td>9.0</td>\n",
       "    </tr>\n",
       "    <tr>\n",
       "      <th>3</th>\n",
       "      <td>3</td>\n",
       "      <td>4.      The Dark Knight(2008)</td>\n",
       "      <td>(2008)</td>\n",
       "      <td>9.0</td>\n",
       "    </tr>\n",
       "    <tr>\n",
       "      <th>4</th>\n",
       "      <td>4</td>\n",
       "      <td>5.      12 Angry Men(1957)</td>\n",
       "      <td>(1957)</td>\n",
       "      <td>8.9</td>\n",
       "    </tr>\n",
       "    <tr>\n",
       "      <th>...</th>\n",
       "      <td>...</td>\n",
       "      <td>...</td>\n",
       "      <td>...</td>\n",
       "      <td>...</td>\n",
       "    </tr>\n",
       "    <tr>\n",
       "      <th>95</th>\n",
       "      <td>95</td>\n",
       "      <td>96.      Citizen Kane(1941)</td>\n",
       "      <td>(1941)</td>\n",
       "      <td>8.3</td>\n",
       "    </tr>\n",
       "    <tr>\n",
       "      <th>96</th>\n",
       "      <td>96</td>\n",
       "      <td>97.      Dangal(2016)</td>\n",
       "      <td>(2016)</td>\n",
       "      <td>8.3</td>\n",
       "    </tr>\n",
       "    <tr>\n",
       "      <th>97</th>\n",
       "      <td>97</td>\n",
       "      <td>98.      Full Metal Jacket(1987)</td>\n",
       "      <td>(1987)</td>\n",
       "      <td>8.2</td>\n",
       "    </tr>\n",
       "    <tr>\n",
       "      <th>98</th>\n",
       "      <td>98</td>\n",
       "      <td>99.      Ladri di biciclette(1948)</td>\n",
       "      <td>(1948)</td>\n",
       "      <td>8.2</td>\n",
       "    </tr>\n",
       "    <tr>\n",
       "      <th>99</th>\n",
       "      <td>99</td>\n",
       "      <td>100.      Singin' in the Rain(1952)</td>\n",
       "      <td>(1952)</td>\n",
       "      <td>8.2</td>\n",
       "    </tr>\n",
       "  </tbody>\n",
       "</table>\n",
       "<p>100 rows × 4 columns</p>\n",
       "</div>"
      ],
      "text/plain": [
       "    Unnamed: 0                                         names   years  ratings\n",
       "0            0        1.      The Shawshank Redemption(1994)  (1994)      9.2\n",
       "1            1                   2.      The Godfather(1972)  (1972)      9.1\n",
       "2            2          3.      The Godfather: Part II(1974)  (1974)      9.0\n",
       "3            3                 4.      The Dark Knight(2008)  (2008)      9.0\n",
       "4            4                    5.      12 Angry Men(1957)  (1957)      8.9\n",
       "..         ...                                           ...     ...      ...\n",
       "95          95                   96.      Citizen Kane(1941)  (1941)      8.3\n",
       "96          96                         97.      Dangal(2016)  (2016)      8.3\n",
       "97          97              98.      Full Metal Jacket(1987)  (1987)      8.2\n",
       "98          98            99.      Ladri di biciclette(1948)  (1948)      8.2\n",
       "99          99           100.      Singin' in the Rain(1952)  (1952)      8.2\n",
       "\n",
       "[100 rows x 4 columns]"
      ]
     },
     "execution_count": 820,
     "metadata": {},
     "output_type": "execute_result"
    }
   ],
   "source": [
    "pd.read_csv('imdb_movies')"
   ]
  },
  {
   "cell_type": "markdown",
   "metadata": {},
   "source": [
    "# 3)Write a python program to display IMDB’s Top rated 100 Indian movies’ data (i.e. Name, IMDB rating, Year of release) and save it in form of a CSV file."
   ]
  },
  {
   "cell_type": "code",
   "execution_count": 821,
   "metadata": {},
   "outputs": [],
   "source": [
    "import pandas as pd\n",
    "import numpy as np\n",
    "import requests\n",
    "from requests import get\n",
    "from bs4 import BeautifulSoup"
   ]
  },
  {
   "cell_type": "code",
   "execution_count": 822,
   "metadata": {},
   "outputs": [],
   "source": [
    "page=requests.get(\"https://www.imdb.com/india/top-rated-indian-movies/\")"
   ]
  },
  {
   "cell_type": "code",
   "execution_count": 823,
   "metadata": {},
   "outputs": [],
   "source": [
    "soup=BeautifulSoup(page.content,'html.parser')"
   ]
  },
  {
   "cell_type": "code",
   "execution_count": 824,
   "metadata": {},
   "outputs": [],
   "source": [
    "Movie_Names=[]\n",
    "IMDB_ratings=[]\n",
    "Year_of_release=[]"
   ]
  },
  {
   "cell_type": "code",
   "execution_count": 825,
   "metadata": {},
   "outputs": [
    {
     "data": {
      "text/plain": [
       "[<td class=\"titleColumn\">\n",
       "       1.\n",
       "       <a href=\"/title/tt0048473/\" title=\"Satyajit Ray (dir.), Kanu Bannerjee, Karuna Bannerjee\">Pather Panchali</a>\n",
       " <span class=\"secondaryInfo\">(1955)</span>\n",
       " </td>,\n",
       " <td class=\"titleColumn\">\n",
       "       2.\n",
       "       <a href=\"/title/tt0079221/\" title=\"Hrishikesh Mukherjee (dir.), Amol Palekar, Bindiya Goswami\">Gol Maal</a>\n",
       " <span class=\"secondaryInfo\">(1979)</span>\n",
       " </td>,\n",
       " <td class=\"titleColumn\">\n",
       "       3.\n",
       "       <a href=\"/title/tt7060344/\" title=\"Ram Kumar (dir.), Vishnu Vishal, Amala Paul\">Ratsasan</a>\n",
       " <span class=\"secondaryInfo\">(2018)</span>\n",
       " </td>]"
      ]
     },
     "execution_count": 825,
     "metadata": {},
     "output_type": "execute_result"
    }
   ],
   "source": [
    "name=soup.find_all('td',class_=\"titleColumn\")\n",
    "name[0:3]"
   ]
  },
  {
   "cell_type": "code",
   "execution_count": 826,
   "metadata": {},
   "outputs": [],
   "source": [
    "for i in name:\n",
    "    Movie_Names.append(i.get_text().replace('\\n\\n',''))\n",
    "    Movie_Names[0:3]"
   ]
  },
  {
   "cell_type": "code",
   "execution_count": 827,
   "metadata": {},
   "outputs": [
    {
     "name": "stdout",
     "output_type": "stream",
     "text": [
      "250\n"
     ]
    }
   ],
   "source": [
    "print(len(Movie_Names))"
   ]
  },
  {
   "cell_type": "code",
   "execution_count": 828,
   "metadata": {},
   "outputs": [
    {
     "data": {
      "text/plain": [
       "['\\n      1.\\n      Pather Panchali\\n(1955)\\n',\n",
       " '\\n      2.\\n      Gol Maal\\n(1979)\\n',\n",
       " '\\n      3.\\n      Ratsasan\\n(2018)\\n',\n",
       " '\\n      4.\\n      Nayakan\\n(1987)\\n',\n",
       " '\\n      5.\\n      Anbe Sivam\\n(2003)\\n',\n",
       " '\\n      6.\\n      Apur Sansar\\n(1959)\\n',\n",
       " '\\n      7.\\n      Natsamrat\\n(2016)\\n',\n",
       " '\\n      8.\\n      Kireedam\\n(1989)\\n',\n",
       " '\\n      9.\\n      Pariyerum Perumal\\n(2018)\\n',\n",
       " '\\n      10.\\n      Black Friday\\n(2004)\\n',\n",
       " '\\n      11.\\n      Manichitrathazhu\\n(1993)\\n',\n",
       " '\\n      12.\\n      Thevar Magan\\n(1992)\\n',\n",
       " '\\n      13.\\n      96\\n(2018)\\n',\n",
       " '\\n      14.\\n      Kumbalangi Nights\\n(2019)\\n',\n",
       " '\\n      15.\\n      3 Idiots\\n(2009)\\n',\n",
       " '\\n      16.\\n      Taare Zameen Par\\n(2007)\\n',\n",
       " '\\n      17.\\n      Visaaranai\\n(2015)\\n',\n",
       " '\\n      18.\\n      Thalapathi\\n(1991)\\n',\n",
       " '\\n      19.\\n      Aparajito\\n(1956)\\n',\n",
       " '\\n      20.\\n      Anand\\n(1971)\\n',\n",
       " '\\n      21.\\n      Jaane Bhi Do Yaaro\\n(1983)\\n',\n",
       " '\\n      22.\\n      Asuran\\n(2019)\\n',\n",
       " '\\n      23.\\n      Pyaasa\\n(1957)\\n',\n",
       " '\\n      24.\\n      Guide\\n(1965)\\n',\n",
       " '\\n      25.\\n      Kannathil Muthamittal\\n(2002)\\n',\n",
       " '\\n      26.\\n      Chupke Chupke\\n(1975)\\n',\n",
       " '\\n      27.\\n      Kaithi\\n(2019)\\n',\n",
       " '\\n      28.\\n      Jersey\\n(2019)\\n',\n",
       " '\\n      29.\\n      Vikram Vedha\\n(2017)\\n',\n",
       " '\\n      30.\\n      Thani Oruvan\\n(2015)\\n',\n",
       " '\\n      31.\\n      Vada Chennai\\n(2018)\\n',\n",
       " '\\n      32.\\n      Soorarai Pottru\\n(2020)\\n',\n",
       " '\\n      33.\\n      Drishyam\\n(2013)\\n',\n",
       " '\\n      34.\\n      Khosla Ka Ghosla!\\n(2006)\\n',\n",
       " '\\n      35.\\n      Aruvi\\n(2016)\\n',\n",
       " '\\n      36.\\n      Peranbu\\n(2018)\\n',\n",
       " '\\n      37.\\n      Super Deluxe\\n(2019)\\n',\n",
       " '\\n      38.\\n      Agent Sai Srinivasa Athreya\\n(2019)\\n',\n",
       " '\\n      39.\\n      Tumbbad\\n(2018)\\n',\n",
       " '\\n      40.\\n      Andhadhun\\n(2018)\\n',\n",
       " '\\n      41.\\n      Mahanati\\n(2018)\\n',\n",
       " '\\n      42.\\n      Kaakkaa Muttai\\n(2014)\\n',\n",
       " '\\n      43.\\n      Premam\\n(2015)\\n',\n",
       " '\\n      44.\\n      Dhuruvangal Pathinaaru\\n(2016)\\n',\n",
       " '\\n      45.\\n      Satya\\n(1998)\\n',\n",
       " '\\n      46.\\n      Shahid\\n(2012)\\n',\n",
       " '\\n      47.\\n      Bangalore Days\\n(2014)\\n',\n",
       " '\\n      48.\\n      Mudhalvan\\n(1999)\\n',\n",
       " '\\n      49.\\n      Soodhu Kavvum\\n(2013)\\n',\n",
       " '\\n      50.\\n      Anniyan\\n(2005)\\n',\n",
       " '\\n      51.\\n      Gangs of Wasseypur\\n(2012)\\n',\n",
       " '\\n      52.\\n      Papanasam\\n(2015)\\n',\n",
       " '\\n      53.\\n      Jigarthanda\\n(2014)\\n',\n",
       " '\\n      54.\\n      Bhaag Milkha Bhaag\\n(2013)\\n',\n",
       " '\\n      55.\\n      Paan Singh Tomar\\n(2012)\\n',\n",
       " '\\n      56.\\n      Talvar\\n(2015)\\n',\n",
       " '\\n      57.\\n      Swades: We, the People\\n(2004)\\n',\n",
       " '\\n      58.\\n      Hera Pheri\\n(2000)\\n',\n",
       " '\\n      59.\\n      Sholay\\n(1975)\\n',\n",
       " '\\n      60.\\n      Drishyam\\n(2015)\\n',\n",
       " '\\n      61.\\n      Nil Battey Sannata\\n(2015)\\n',\n",
       " '\\n      62.\\n      Pithamagan\\n(2003)\\n',\n",
       " '\\n      63.\\n      Black\\n(2005)\\n',\n",
       " '\\n      64.\\n      Chak De! India\\n(2007)\\n',\n",
       " '\\n      65.\\n      Jo Jeeta Wohi Sikandar\\n(1992)\\n',\n",
       " '\\n      66.\\n      Sairat\\n(2016)\\n',\n",
       " '\\n      67.\\n      Mughal-E-Azam\\n(1960)\\n',\n",
       " '\\n      68.\\n      Charulata\\n(1964)\\n',\n",
       " '\\n      69.\\n      Rang De Basanti\\n(2006)\\n',\n",
       " '\\n      70.\\n      Ustad Hotel\\n(2012)\\n',\n",
       " '\\n      71.\\n      Queen\\n(2013)\\n',\n",
       " '\\n      72.\\n      Udaan\\n(2010)\\n',\n",
       " '\\n      73.\\n      Article 15\\n(2019)\\n',\n",
       " '\\n      74.\\n      Zindagi Na Milegi Dobara\\n(2011)\\n',\n",
       " '\\n      75.\\n      A Wednesday\\n(2008)\\n',\n",
       " '\\n      76.\\n      Dil Chahta Hai\\n(2001)\\n',\n",
       " '\\n      77.\\n      Munna Bhai M.B.B.S.\\n(2003)\\n',\n",
       " '\\n      78.\\n      Sarfarosh\\n(1999)\\n',\n",
       " '\\n      79.\\n      Andaz Apna Apna\\n(1994)\\n',\n",
       " '\\n      80.\\n      Masaan\\n(2015)\\n',\n",
       " '\\n      81.\\n      OMG: Oh My God!\\n(2012)\\n',\n",
       " '\\n      82.\\n      Roja\\n(1992)\\n',\n",
       " '\\n      83.\\n      Lagaan: Once Upon a Time in India\\n(2001)\\n',\n",
       " '\\n      84.\\n      Maheshinte Prathikaaram\\n(2016)\\n',\n",
       " '\\n      85.\\n      Theeran adhigaaram ondru\\n(2017)\\n',\n",
       " '\\n      86.\\n      Kahaani\\n(2012)\\n',\n",
       " '\\n      87.\\n      Alai Payuthey\\n(2000)\\n',\n",
       " '\\n      88.\\n      PK\\n(2014)\\n',\n",
       " '\\n      89.\\n      Baasha\\n(1995)\\n',\n",
       " '\\n      90.\\n      Uri: The Surgical Strike\\n(2018)\\n',\n",
       " '\\n      91.\\n      Iqbal\\n(2005)\\n',\n",
       " '\\n      92.\\n      Pink\\n(2016)\\n',\n",
       " '\\n      93.\\n      Barfi!\\n(2012)\\n',\n",
       " '\\n      94.\\n      The Legend of Bhagat Singh\\n(2002)\\n',\n",
       " '\\n      95.\\n      Bommarillu\\n(2006)\\n',\n",
       " '\\n      96.\\n      Lucia\\n(2013)\\n',\n",
       " '\\n      97.\\n      Bombay\\n(1995)\\n',\n",
       " '\\n      98.\\n      Maqbool\\n(2003)\\n',\n",
       " '\\n      99.\\n      Omkara\\n(2006)\\n',\n",
       " '\\n      100.\\n      Section 375\\n(2019)\\n',\n",
       " '\\n      101.\\n      Lage Raho Munna Bhai\\n(2006)\\n',\n",
       " '\\n      102.\\n      Indian\\n(1996)\\n',\n",
       " '\\n      103.\\n      Chhichhore\\n(2019)\\n',\n",
       " '\\n      104.\\n      Deewaar\\n(1975)\\n',\n",
       " '\\n      105.\\n      Dilwale Dulhania Le Jayenge\\n(1995)\\n',\n",
       " '\\n      106.\\n      Baahubali 2: The Conclusion\\n(2017)\\n',\n",
       " '\\n      107.\\n      Gulaal\\n(2009)\\n',\n",
       " '\\n      108.\\n      Padosan\\n(1968)\\n',\n",
       " '\\n      109.\\n      Haider\\n(2014)\\n',\n",
       " '\\n      110.\\n      Pelli Choopulu\\n(2016)\\n',\n",
       " '\\n      111.\\n      Gully Boy\\n(2019)\\n',\n",
       " '\\n      112.\\n      Mother India\\n(1957)\\n',\n",
       " '\\n      113.\\n      Ugly\\n(2013)\\n',\n",
       " '\\n      114.\\n      Athadu\\n(2005)\\n',\n",
       " '\\n      115.\\n      Padayappa\\n(1999)\\n',\n",
       " '\\n      116.\\n      Special Chabbis\\n(2013)\\n',\n",
       " '\\n      117.\\n      Rangasthalam\\n(2018)\\n',\n",
       " '\\n      118.\\n      Dev.D\\n(2009)\\n',\n",
       " '\\n      119.\\n      Jalsaghar\\n(1958)\\n',\n",
       " '\\n      120.\\n      Ship of Theseus\\n(2012)\\n',\n",
       " '\\n      121.\\n      Badhaai ho\\n(2018)\\n',\n",
       " '\\n      122.\\n      Bajrangi Bhaijaan\\n(2015)\\n',\n",
       " '\\n      123.\\n      Vaastav: The Reality\\n(1999)\\n',\n",
       " '\\n      124.\\n      Ulidavaru Kandanthe\\n(2014)\\n',\n",
       " '\\n      125.\\n      Company\\n(2002)\\n',\n",
       " '\\n      126.\\n      Arjun Reddy\\n(2017)\\n',\n",
       " '\\n      127.\\n      Mukkabaaz\\n(2017)\\n',\n",
       " '\\n      128.\\n      Ankhon Dekhi\\n(2013)\\n',\n",
       " '\\n      129.\\n      Vaaranam Aayiram\\n(2008)\\n',\n",
       " '\\n      130.\\n      Vedam\\n(2010)\\n',\n",
       " '\\n      131.\\n      K.G.F: Chapter 1\\n(2018)\\n',\n",
       " '\\n      132.\\n      Manjhi: The Mountain Man\\n(2015)\\n',\n",
       " '\\n      133.\\n      Dil Bechara\\n(2020)\\n',\n",
       " '\\n      134.\\n      Pizza\\n(2012)\\n',\n",
       " '\\n      135.\\n      My Name Is Khan\\n(2010)\\n',\n",
       " '\\n      136.\\n      Kal Ho Naa Ho\\n(2003)\\n',\n",
       " '\\n      137.\\n      Jab We Met\\n(2007)\\n',\n",
       " '\\n      138.\\n      Mumbai Police\\n(2013)\\n',\n",
       " '\\n      139.\\n      Memories\\n(2013)\\n',\n",
       " '\\n      140.\\n      Unnaipol Oruvan\\n(2009)\\n',\n",
       " '\\n      141.\\n      Padman\\n(2018)\\n',\n",
       " '\\n      142.\\n      Border\\n(1997)\\n',\n",
       " '\\n      143.\\n      Bãhubali: The Beginning\\n(2015)\\n',\n",
       " '\\n      144.\\n      Lakshya\\n(2004)\\n',\n",
       " '\\n      145.\\n      Dor\\n(2006)\\n',\n",
       " '\\n      146.\\n      Super 30\\n(2019)\\n',\n",
       " '\\n      147.\\n      Airlift\\n(2016)\\n',\n",
       " '\\n      148.\\n      Vettaiyaadu Vilaiyaadu\\n(2006)\\n',\n",
       " '\\n      149.\\n      Baby\\n(2015)\\n',\n",
       " '\\n      150.\\n      Hey Ram\\n(2000)\\n',\n",
       " '\\n      151.\\n      Charlie\\n(2015)\\n',\n",
       " '\\n      152.\\n      English Vinglish\\n(2012)\\n',\n",
       " '\\n      153.\\n      Gangaajal\\n(2003)\\n',\n",
       " '\\n      154.\\n      Okkadu\\n(2003)\\n',\n",
       " '\\n      155.\\n      The Lunchbox\\n(2013)\\n',\n",
       " '\\n      156.\\n      Johnny Gaddaar\\n(2007)\\n',\n",
       " '\\n      157.\\n      Ab Tak Chhappan\\n(2004)\\n',\n",
       " '\\n      158.\\n      Hindi Medium\\n(2017)\\n',\n",
       " '\\n      159.\\n      Manam\\n(2014)\\n',\n",
       " '\\n      160.\\n      Secret Superstar\\n(2017)\\n',\n",
       " '\\n      161.\\n      Badla\\n(2019)\\n',\n",
       " '\\n      162.\\n      Sonchiriya\\n(2019)\\n',\n",
       " '\\n      163.\\n      Nayak: The Real Hero\\n(2001)\\n',\n",
       " '\\n      164.\\n      Raazi\\n(2018)\\n',\n",
       " '\\n      165.\\n      Vicky Donor\\n(2012)\\n',\n",
       " '\\n      166.\\n      Mr. India\\n(1987)\\n',\n",
       " '\\n      167.\\n      Udta Punjab\\n(2016)\\n',\n",
       " '\\n      168.\\n      Don\\n(1978)\\n',\n",
       " '\\n      169.\\n      Pokiri\\n(2006)\\n',\n",
       " '\\n      170.\\n      Stanley Ka Dabba\\n(2011)\\n',\n",
       " '\\n      171.\\n      Rock On!!\\n(2008)\\n',\n",
       " '\\n      172.\\n      Dasvidaniya\\n(2008)\\n',\n",
       " '\\n      173.\\n      Veer-Zaara\\n(2004)\\n',\n",
       " '\\n      174.\\n      RangiTaranga\\n(2015)\\n',\n",
       " '\\n      175.\\n      Aligarh\\n(2015)\\n',\n",
       " '\\n      176.\\n      Guru\\n(2007)\\n',\n",
       " '\\n      177.\\n      Samsara\\n(2001)\\n',\n",
       " '\\n      178.\\n      Arya\\n(2004)\\n',\n",
       " '\\n      179.\\n      Oye Lucky! Lucky Oye!\\n(2008)\\n',\n",
       " '\\n      180.\\n      Velaiilla Pattadhari\\n(2014)\\n',\n",
       " '\\n      181.\\n      M.S. Dhoni: The Untold Story\\n(2016)\\n',\n",
       " '\\n      182.\\n      Goodachari\\n(2018)\\n',\n",
       " '\\n      183.\\n      Mumbai Meri Jaan\\n(2008)\\n',\n",
       " '\\n      184.\\n      Kai po che!\\n(2013)\\n',\n",
       " '\\n      185.\\n      Kapoor & Sons\\n(2016)\\n',\n",
       " '\\n      186.\\n      Rockstar\\n(2011)\\n',\n",
       " '\\n      187.\\n      Eega\\n(2012)\\n',\n",
       " '\\n      188.\\n      Aamir\\n(2008)\\n',\n",
       " '\\n      189.\\n      Kabhi Haan Kabhi Naa\\n(1994)\\n',\n",
       " '\\n      190.\\n      Darr\\n(1993)\\n',\n",
       " '\\n      191.\\n      Newton\\n(2017)\\n',\n",
       " '\\n      192.\\n      24\\n(2016)\\n',\n",
       " '\\n      193.\\n      Earth\\n(1998)\\n',\n",
       " '\\n      194.\\n      Ugramm\\n(2014)\\n',\n",
       " '\\n      195.\\n      Madras Cafe\\n(2013)\\n',\n",
       " '\\n      196.\\n      Agneepath\\n(1990)\\n',\n",
       " '\\n      197.\\n      Pyaar Ka Punchnama\\n(2011)\\n',\n",
       " '\\n      198.\\n      Neerja\\n(2016)\\n',\n",
       " '\\n      199.\\n      Sarkar\\n(2005)\\n',\n",
       " '\\n      200.\\n      Bheja Fry\\n(2007)\\n',\n",
       " '\\n      201.\\n      The Tashkent Files\\n(2019)\\n',\n",
       " '\\n      202.\\n      Highway\\n(2014)\\n',\n",
       " '\\n      203.\\n      Thuppakki\\n(2012)\\n',\n",
       " '\\n      204.\\n      Detective Byomkesh Bakshy!\\n(2015)\\n',\n",
       " '\\n      205.\\n      Manorama: Six Feet Under\\n(2007)\\n',\n",
       " '\\n      206.\\n      Magadheera\\n(2009)\\n',\n",
       " '\\n      207.\\n      Baazigar\\n(1993)\\n',\n",
       " '\\n      208.\\n      Tanu Weds Manu Returns\\n(2015)\\n',\n",
       " '\\n      209.\\n      Wake Up Sid\\n(2009)\\n',\n",
       " '\\n      210.\\n      Saala Khadoos\\n(2016)\\n',\n",
       " '\\n      211.\\n      Piku\\n(2015)\\n',\n",
       " '\\n      212.\\n      Kaththi\\n(2014)\\n',\n",
       " '\\n      213.\\n      Kuch Kuch Hota Hai\\n(1998)\\n',\n",
       " '\\n      214.\\n      Sanju\\n(2018)\\n',\n",
       " '\\n      215.\\n      1 - Nenokkadine\\n(2014)\\n',\n",
       " '\\n      216.\\n      Nerkonda Paarvai\\n(2019)\\n',\n",
       " '\\n      217.\\n      Ludo\\n(2020)\\n',\n",
       " '\\n      218.\\n      Delhi Belly\\n(2011)\\n',\n",
       " '\\n      219.\\n      Dhruva\\n(2016)\\n',\n",
       " '\\n      220.\\n      Stree\\n(2018)\\n',\n",
       " '\\n      221.\\n      Devdas\\n(2002)\\n',\n",
       " '\\n      222.\\n      Jodhaa Akbar\\n(2008)\\n',\n",
       " '\\n      223.\\n      Parmanu: The Story of Pokhran\\n(2018)\\n',\n",
       " '\\n      224.\\n      Lootcase\\n(2020)\\n',\n",
       " '\\n      225.\\n      Raanjhanaa\\n(2013)\\n',\n",
       " '\\n      226.\\n      Trapped\\n(2016)\\n',\n",
       " '\\n      227.\\n      Dil Se..\\n(1998)\\n',\n",
       " '\\n      228.\\n      Ek Hasina Thi\\n(2004)\\n',\n",
       " '\\n      229.\\n      Rocket Singh: Salesman of the Year\\n(2009)\\n',\n",
       " '\\n      230.\\n      Bhavesh Joshi Superhero\\n(2018)\\n',\n",
       " '\\n      231.\\n      Hungama\\n(2003)\\n',\n",
       " '\\n      232.\\n      Madaari\\n(2016)\\n',\n",
       " '\\n      233.\\n      Do Dooni Chaar\\n(2010)\\n',\n",
       " '\\n      234.\\n      Geetha Govindam\\n(2018)\\n',\n",
       " '\\n      235.\\n      Rehnaa Hai Terre Dil Mein\\n(2001)\\n',\n",
       " '\\n      236.\\n      Jolly LLB\\n(2013)\\n',\n",
       " '\\n      237.\\n      The Ghazi Attack\\n(2017)\\n',\n",
       " '\\n      238.\\n      Jallikattu\\n(2019)\\n',\n",
       " '\\n      239.\\n      Ghilli\\n(2004)\\n',\n",
       " '\\n      240.\\n      Bareilly Ki Barfi\\n(2017)\\n',\n",
       " '\\n      241.\\n      Karwaan\\n(2018)\\n',\n",
       " '\\n      242.\\n      Ghajini\\n(2005)\\n',\n",
       " '\\n      243.\\n      Phas Gaye Re Obama\\n(2010)\\n',\n",
       " '\\n      244.\\n      Qayamat Se Qayamat Tak\\n(1988)\\n',\n",
       " '\\n      245.\\n      The Sky Is Pink\\n(2019)\\n',\n",
       " '\\n      246.\\n      Dum Laga Ke Haisha\\n(2015)\\n',\n",
       " '\\n      247.\\n      Sivaji\\n(2007)\\n',\n",
       " '\\n      248.\\n      October\\n(2018)\\n',\n",
       " '\\n      249.\\n      Hichki\\n(2018)\\n',\n",
       " '\\n      250.\\n      Hum Aapke Hain Koun...!\\n(1994)\\n']"
      ]
     },
     "execution_count": 828,
     "metadata": {},
     "output_type": "execute_result"
    }
   ],
   "source": [
    "Movie_Names"
   ]
  },
  {
   "cell_type": "code",
   "execution_count": 829,
   "metadata": {},
   "outputs": [
    {
     "data": {
      "text/plain": [
       "[<td class=\"ratingColumn imdbRating\">\n",
       " <strong title=\"8.5 based on 23,580 user ratings\">8.5</strong>\n",
       " </td>,\n",
       " <td class=\"ratingColumn imdbRating\">\n",
       " <strong title=\"8.5 based on 17,973 user ratings\">8.5</strong>\n",
       " </td>,\n",
       " <td class=\"ratingColumn imdbRating\">\n",
       " <strong title=\"8.5 based on 24,737 user ratings\">8.5</strong>\n",
       " </td>]"
      ]
     },
     "execution_count": 829,
     "metadata": {},
     "output_type": "execute_result"
    }
   ],
   "source": [
    "rating=soup.find_all('td',class_=\"ratingColumn imdbRating\")\n",
    "rating[0:3]"
   ]
  },
  {
   "cell_type": "code",
   "execution_count": 830,
   "metadata": {},
   "outputs": [
    {
     "name": "stdout",
     "output_type": "stream",
     "text": [
      "9.2\n",
      "9.1\n",
      "9.0\n",
      "9.0\n",
      "8.9\n",
      "8.9\n",
      "8.9\n",
      "8.8\n",
      "8.8\n",
      "8.8\n",
      "8.8\n",
      "8.8\n",
      "8.7\n",
      "8.7\n",
      "8.7\n",
      "8.6\n",
      "8.6\n",
      "8.6\n",
      "8.6\n",
      "8.6\n",
      "8.6\n",
      "8.6\n",
      "8.6\n",
      "8.6\n",
      "8.6\n",
      "8.6\n",
      "8.5\n",
      "8.5\n",
      "8.5\n",
      "8.5\n",
      "8.5\n",
      "8.5\n",
      "8.5\n",
      "8.5\n",
      "8.5\n",
      "8.5\n",
      "8.5\n",
      "8.5\n",
      "8.5\n",
      "8.5\n",
      "8.5\n",
      "8.5\n",
      "8.5\n",
      "8.5\n",
      "8.5\n",
      "8.5\n",
      "8.5\n",
      "8.4\n",
      "8.4\n",
      "8.4\n",
      "8.4\n",
      "8.4\n",
      "8.4\n",
      "8.4\n",
      "8.4\n",
      "8.4\n",
      "8.4\n",
      "8.4\n",
      "8.4\n",
      "8.4\n",
      "8.4\n",
      "8.4\n",
      "8.4\n",
      "8.4\n",
      "8.4\n",
      "8.4\n",
      "8.3\n",
      "8.3\n",
      "8.3\n",
      "8.3\n",
      "8.3\n",
      "8.3\n",
      "8.3\n",
      "8.3\n",
      "8.3\n",
      "8.3\n",
      "8.3\n",
      "8.3\n",
      "8.3\n",
      "8.3\n",
      "8.3\n",
      "8.3\n",
      "8.3\n",
      "8.3\n",
      "8.3\n",
      "8.3\n",
      "8.3\n",
      "8.3\n",
      "8.3\n",
      "8.3\n",
      "8.3\n",
      "8.3\n",
      "8.3\n",
      "8.3\n",
      "8.3\n",
      "8.3\n",
      "8.3\n",
      "8.2\n",
      "8.2\n",
      "8.2\n",
      "8.2\n",
      "8.2\n",
      "8.2\n",
      "8.2\n",
      "8.2\n",
      "8.2\n",
      "8.2\n",
      "8.2\n",
      "8.2\n",
      "8.2\n",
      "8.2\n",
      "8.2\n",
      "8.2\n",
      "8.2\n",
      "8.2\n",
      "8.2\n",
      "8.2\n",
      "8.2\n",
      "8.2\n",
      "8.2\n",
      "8.2\n",
      "8.2\n",
      "8.2\n",
      "8.2\n",
      "8.2\n",
      "8.2\n",
      "8.2\n",
      "8.2\n",
      "8.2\n",
      "8.2\n",
      "8.2\n",
      "8.2\n",
      "8.2\n",
      "8.2\n",
      "8.2\n",
      "8.2\n",
      "8.2\n",
      "8.2\n",
      "8.2\n",
      "8.2\n",
      "8.2\n",
      "8.2\n",
      "8.1\n",
      "8.1\n",
      "8.1\n",
      "8.1\n",
      "8.1\n",
      "8.1\n",
      "8.1\n",
      "8.1\n",
      "8.1\n",
      "8.1\n",
      "8.1\n",
      "8.1\n",
      "8.1\n",
      "8.1\n",
      "8.1\n",
      "8.1\n",
      "8.1\n",
      "8.1\n",
      "8.1\n",
      "8.1\n",
      "8.1\n",
      "8.1\n",
      "8.1\n",
      "8.1\n",
      "8.1\n",
      "8.1\n",
      "8.1\n",
      "8.1\n",
      "8.1\n",
      "8.1\n",
      "8.1\n",
      "8.1\n",
      "8.1\n",
      "8.1\n",
      "8.1\n",
      "8.1\n",
      "8.1\n",
      "8.1\n",
      "8.1\n",
      "8.1\n",
      "8.1\n",
      "8.1\n",
      "8.1\n",
      "8.1\n",
      "8.1\n",
      "8.1\n",
      "8.1\n",
      "8.1\n",
      "8.1\n",
      "8.1\n",
      "8.1\n",
      "8.1\n",
      "8.1\n",
      "8.1\n",
      "8.1\n",
      "8.1\n",
      "8.1\n",
      "8.1\n",
      "8.1\n",
      "8.1\n",
      "8.1\n",
      "8.1\n",
      "8.1\n",
      "8.1\n",
      "8.1\n",
      "8.1\n",
      "8.1\n",
      "8.1\n",
      "8.1\n",
      "8.1\n",
      "8.1\n",
      "8.1\n",
      "8.1\n",
      "8.1\n",
      "8.0\n",
      "8.0\n",
      "8.0\n",
      "8.0\n",
      "8.0\n",
      "8.0\n",
      "8.0\n",
      "8.0\n",
      "8.0\n",
      "8.0\n",
      "8.0\n",
      "8.0\n",
      "8.0\n",
      "8.0\n",
      "8.0\n",
      "8.0\n",
      "8.0\n",
      "8.0\n",
      "8.0\n",
      "8.0\n",
      "8.0\n",
      "8.0\n",
      "8.0\n",
      "8.0\n",
      "8.0\n",
      "8.0\n",
      "8.0\n",
      "8.0\n",
      "8.0\n",
      "8.0\n",
      "8.0\n",
      "8.0\n",
      "8.0\n",
      "8.0\n"
     ]
    }
   ],
   "source": [
    "for i in ratings:\n",
    "    full_ratings=\"\"\n",
    "    for j in i.find_all('strong'):\n",
    "        full_ratings=full_ratings+\"\"+j.get_text().replace('\\n','')\n",
    "        print(full_ratings)\n",
    "        IMDB_ratings.append(full_ratings)\n",
    "        ratings[0:3]"
   ]
  },
  {
   "cell_type": "code",
   "execution_count": 831,
   "metadata": {},
   "outputs": [
    {
     "name": "stdout",
     "output_type": "stream",
     "text": [
      "250\n"
     ]
    }
   ],
   "source": [
    "print(len(IMDB_ratings))"
   ]
  },
  {
   "cell_type": "code",
   "execution_count": 832,
   "metadata": {},
   "outputs": [],
   "source": [
    "year=soup.find_all('span',class_=\"secondaryInfo\")\n",
    "for i in year:\n",
    "    Year_of_release.append(i.get_text())\n",
    "    Year_of_release[0:3]"
   ]
  },
  {
   "cell_type": "code",
   "execution_count": 833,
   "metadata": {},
   "outputs": [
    {
     "name": "stdout",
     "output_type": "stream",
     "text": [
      "250\n"
     ]
    }
   ],
   "source": [
    "print(len(Year_of_release))"
   ]
  },
  {
   "cell_type": "code",
   "execution_count": 834,
   "metadata": {},
   "outputs": [],
   "source": [
    "import pandas as pd\n",
    "indianmovie=pd.DataFrame({})\n",
    "indianmovie['name']=Movie_Names[:100]\n",
    "indianmovie['rating']=IMDB_ratings[:100]\n",
    "indianmovie['year']=Year_of_release[:100]"
   ]
  },
  {
   "cell_type": "code",
   "execution_count": 835,
   "metadata": {},
   "outputs": [
    {
     "data": {
      "text/html": [
       "<div>\n",
       "<style scoped>\n",
       "    .dataframe tbody tr th:only-of-type {\n",
       "        vertical-align: middle;\n",
       "    }\n",
       "\n",
       "    .dataframe tbody tr th {\n",
       "        vertical-align: top;\n",
       "    }\n",
       "\n",
       "    .dataframe thead th {\n",
       "        text-align: right;\n",
       "    }\n",
       "</style>\n",
       "<table border=\"1\" class=\"dataframe\">\n",
       "  <thead>\n",
       "    <tr style=\"text-align: right;\">\n",
       "      <th></th>\n",
       "      <th>name</th>\n",
       "      <th>rating</th>\n",
       "      <th>year</th>\n",
       "    </tr>\n",
       "  </thead>\n",
       "  <tbody>\n",
       "    <tr>\n",
       "      <th>0</th>\n",
       "      <td>\\n      1.\\n      Pather Panchali\\n(1955)\\n</td>\n",
       "      <td>9.2</td>\n",
       "      <td>(1955)</td>\n",
       "    </tr>\n",
       "    <tr>\n",
       "      <th>1</th>\n",
       "      <td>\\n      2.\\n      Gol Maal\\n(1979)\\n</td>\n",
       "      <td>9.1</td>\n",
       "      <td>(1979)</td>\n",
       "    </tr>\n",
       "    <tr>\n",
       "      <th>2</th>\n",
       "      <td>\\n      3.\\n      Ratsasan\\n(2018)\\n</td>\n",
       "      <td>9.0</td>\n",
       "      <td>(2018)</td>\n",
       "    </tr>\n",
       "    <tr>\n",
       "      <th>3</th>\n",
       "      <td>\\n      4.\\n      Nayakan\\n(1987)\\n</td>\n",
       "      <td>9.0</td>\n",
       "      <td>(1987)</td>\n",
       "    </tr>\n",
       "    <tr>\n",
       "      <th>4</th>\n",
       "      <td>\\n      5.\\n      Anbe Sivam\\n(2003)\\n</td>\n",
       "      <td>8.9</td>\n",
       "      <td>(2003)</td>\n",
       "    </tr>\n",
       "    <tr>\n",
       "      <th>...</th>\n",
       "      <td>...</td>\n",
       "      <td>...</td>\n",
       "      <td>...</td>\n",
       "    </tr>\n",
       "    <tr>\n",
       "      <th>95</th>\n",
       "      <td>\\n      96.\\n      Lucia\\n(2013)\\n</td>\n",
       "      <td>8.3</td>\n",
       "      <td>(2013)</td>\n",
       "    </tr>\n",
       "    <tr>\n",
       "      <th>96</th>\n",
       "      <td>\\n      97.\\n      Bombay\\n(1995)\\n</td>\n",
       "      <td>8.3</td>\n",
       "      <td>(1995)</td>\n",
       "    </tr>\n",
       "    <tr>\n",
       "      <th>97</th>\n",
       "      <td>\\n      98.\\n      Maqbool\\n(2003)\\n</td>\n",
       "      <td>8.2</td>\n",
       "      <td>(2003)</td>\n",
       "    </tr>\n",
       "    <tr>\n",
       "      <th>98</th>\n",
       "      <td>\\n      99.\\n      Omkara\\n(2006)\\n</td>\n",
       "      <td>8.2</td>\n",
       "      <td>(2006)</td>\n",
       "    </tr>\n",
       "    <tr>\n",
       "      <th>99</th>\n",
       "      <td>\\n      100.\\n      Section 375\\n(2019)\\n</td>\n",
       "      <td>8.2</td>\n",
       "      <td>(2019)</td>\n",
       "    </tr>\n",
       "  </tbody>\n",
       "</table>\n",
       "<p>100 rows × 3 columns</p>\n",
       "</div>"
      ],
      "text/plain": [
       "                                           name rating    year\n",
       "0   \\n      1.\\n      Pather Panchali\\n(1955)\\n    9.2  (1955)\n",
       "1          \\n      2.\\n      Gol Maal\\n(1979)\\n    9.1  (1979)\n",
       "2          \\n      3.\\n      Ratsasan\\n(2018)\\n    9.0  (2018)\n",
       "3           \\n      4.\\n      Nayakan\\n(1987)\\n    9.0  (1987)\n",
       "4        \\n      5.\\n      Anbe Sivam\\n(2003)\\n    8.9  (2003)\n",
       "..                                          ...    ...     ...\n",
       "95           \\n      96.\\n      Lucia\\n(2013)\\n    8.3  (2013)\n",
       "96          \\n      97.\\n      Bombay\\n(1995)\\n    8.3  (1995)\n",
       "97         \\n      98.\\n      Maqbool\\n(2003)\\n    8.2  (2003)\n",
       "98          \\n      99.\\n      Omkara\\n(2006)\\n    8.2  (2006)\n",
       "99    \\n      100.\\n      Section 375\\n(2019)\\n    8.2  (2019)\n",
       "\n",
       "[100 rows x 3 columns]"
      ]
     },
     "execution_count": 835,
     "metadata": {},
     "output_type": "execute_result"
    }
   ],
   "source": [
    "indianmovie"
   ]
  },
  {
   "cell_type": "code",
   "execution_count": 915,
   "metadata": {},
   "outputs": [],
   "source": [
    "indianmovie.to_csv('imdb_indianmovie')"
   ]
  },
  {
   "cell_type": "code",
   "execution_count": 916,
   "metadata": {},
   "outputs": [
    {
     "data": {
      "text/html": [
       "<div>\n",
       "<style scoped>\n",
       "    .dataframe tbody tr th:only-of-type {\n",
       "        vertical-align: middle;\n",
       "    }\n",
       "\n",
       "    .dataframe tbody tr th {\n",
       "        vertical-align: top;\n",
       "    }\n",
       "\n",
       "    .dataframe thead th {\n",
       "        text-align: right;\n",
       "    }\n",
       "</style>\n",
       "<table border=\"1\" class=\"dataframe\">\n",
       "  <thead>\n",
       "    <tr style=\"text-align: right;\">\n",
       "      <th></th>\n",
       "      <th>Unnamed: 0</th>\n",
       "      <th>name</th>\n",
       "      <th>rating</th>\n",
       "      <th>year</th>\n",
       "    </tr>\n",
       "  </thead>\n",
       "  <tbody>\n",
       "    <tr>\n",
       "      <th>0</th>\n",
       "      <td>0</td>\n",
       "      <td>\\n      1.\\n      Pather Panchali\\n(1955)\\n</td>\n",
       "      <td>9.2</td>\n",
       "      <td>(1955)</td>\n",
       "    </tr>\n",
       "    <tr>\n",
       "      <th>1</th>\n",
       "      <td>1</td>\n",
       "      <td>\\n      2.\\n      Gol Maal\\n(1979)\\n</td>\n",
       "      <td>9.1</td>\n",
       "      <td>(1979)</td>\n",
       "    </tr>\n",
       "    <tr>\n",
       "      <th>2</th>\n",
       "      <td>2</td>\n",
       "      <td>\\n      3.\\n      Ratsasan\\n(2018)\\n</td>\n",
       "      <td>9.0</td>\n",
       "      <td>(2018)</td>\n",
       "    </tr>\n",
       "    <tr>\n",
       "      <th>3</th>\n",
       "      <td>3</td>\n",
       "      <td>\\n      4.\\n      Nayakan\\n(1987)\\n</td>\n",
       "      <td>9.0</td>\n",
       "      <td>(1987)</td>\n",
       "    </tr>\n",
       "    <tr>\n",
       "      <th>4</th>\n",
       "      <td>4</td>\n",
       "      <td>\\n      5.\\n      Anbe Sivam\\n(2003)\\n</td>\n",
       "      <td>8.9</td>\n",
       "      <td>(2003)</td>\n",
       "    </tr>\n",
       "    <tr>\n",
       "      <th>...</th>\n",
       "      <td>...</td>\n",
       "      <td>...</td>\n",
       "      <td>...</td>\n",
       "      <td>...</td>\n",
       "    </tr>\n",
       "    <tr>\n",
       "      <th>95</th>\n",
       "      <td>95</td>\n",
       "      <td>\\n      96.\\n      Lucia\\n(2013)\\n</td>\n",
       "      <td>8.3</td>\n",
       "      <td>(2013)</td>\n",
       "    </tr>\n",
       "    <tr>\n",
       "      <th>96</th>\n",
       "      <td>96</td>\n",
       "      <td>\\n      97.\\n      Bombay\\n(1995)\\n</td>\n",
       "      <td>8.3</td>\n",
       "      <td>(1995)</td>\n",
       "    </tr>\n",
       "    <tr>\n",
       "      <th>97</th>\n",
       "      <td>97</td>\n",
       "      <td>\\n      98.\\n      Maqbool\\n(2003)\\n</td>\n",
       "      <td>8.2</td>\n",
       "      <td>(2003)</td>\n",
       "    </tr>\n",
       "    <tr>\n",
       "      <th>98</th>\n",
       "      <td>98</td>\n",
       "      <td>\\n      99.\\n      Omkara\\n(2006)\\n</td>\n",
       "      <td>8.2</td>\n",
       "      <td>(2006)</td>\n",
       "    </tr>\n",
       "    <tr>\n",
       "      <th>99</th>\n",
       "      <td>99</td>\n",
       "      <td>\\n      100.\\n      Section 375\\n(2019)\\n</td>\n",
       "      <td>8.2</td>\n",
       "      <td>(2019)</td>\n",
       "    </tr>\n",
       "  </tbody>\n",
       "</table>\n",
       "<p>100 rows × 4 columns</p>\n",
       "</div>"
      ],
      "text/plain": [
       "    Unnamed: 0                                         name  rating    year\n",
       "0            0  \\n      1.\\n      Pather Panchali\\n(1955)\\n     9.2  (1955)\n",
       "1            1         \\n      2.\\n      Gol Maal\\n(1979)\\n     9.1  (1979)\n",
       "2            2         \\n      3.\\n      Ratsasan\\n(2018)\\n     9.0  (2018)\n",
       "3            3          \\n      4.\\n      Nayakan\\n(1987)\\n     9.0  (1987)\n",
       "4            4       \\n      5.\\n      Anbe Sivam\\n(2003)\\n     8.9  (2003)\n",
       "..         ...                                          ...     ...     ...\n",
       "95          95           \\n      96.\\n      Lucia\\n(2013)\\n     8.3  (2013)\n",
       "96          96          \\n      97.\\n      Bombay\\n(1995)\\n     8.3  (1995)\n",
       "97          97         \\n      98.\\n      Maqbool\\n(2003)\\n     8.2  (2003)\n",
       "98          98          \\n      99.\\n      Omkara\\n(2006)\\n     8.2  (2006)\n",
       "99          99    \\n      100.\\n      Section 375\\n(2019)\\n     8.2  (2019)\n",
       "\n",
       "[100 rows x 4 columns]"
      ]
     },
     "execution_count": 916,
     "metadata": {},
     "output_type": "execute_result"
    }
   ],
   "source": [
    "pd.read_csv('imdb_indianmovie')"
   ]
  },
  {
   "cell_type": "markdown",
   "metadata": {},
   "source": [
    "# 4)Write a python program to scrap book name, author name, genre and book review of any 5 books from ‘www.bookpage.com’"
   ]
  },
  {
   "cell_type": "code",
   "execution_count": 838,
   "metadata": {},
   "outputs": [],
   "source": [
    "import pandas as pd\n",
    "import numpy as np\n",
    "import requests\n",
    "from requests import get\n",
    "from bs4 import BeautifulSoup"
   ]
  },
  {
   "cell_type": "code",
   "execution_count": 839,
   "metadata": {},
   "outputs": [],
   "source": [
    "page=requests.get(\"https://bookpage.com/\")"
   ]
  },
  {
   "cell_type": "code",
   "execution_count": 840,
   "metadata": {},
   "outputs": [],
   "source": [
    "soup=BeautifulSoup(page.content,'html.parser')"
   ]
  },
  {
   "cell_type": "code",
   "execution_count": 841,
   "metadata": {},
   "outputs": [],
   "source": [
    "Book_names=[]\n",
    "Author_names=[]\n",
    "Genre=[]\n",
    "Book_review=[]"
   ]
  },
  {
   "cell_type": "code",
   "execution_count": 842,
   "metadata": {},
   "outputs": [
    {
     "data": {
      "text/plain": [
       "[<div class=\"content\">\n",
       " <h4 class=\"italic\">\n",
       " <a href=\"/features/25907-book-clubs-february-2021-fiction\">Book Clubs: February 2021</a>\n",
       " </h4>\n",
       " <p class=\"sans bold\">\n",
       " Feature by Julie Hale\n",
       " </p>\n",
       " <p class=\"genre-links hidden-phone\">\n",
       " <a href=\"/search?book_genre=fiction\">Fiction</a>\n",
       "  / \n",
       " <a href=\"/search?book_genre=popular_fiction\">Popular Fiction</a>\n",
       "  / \n",
       " <a href=\"/search?book_genre=science_fiction_fantasy\">Science Fiction &amp; Fantasy</a>\n",
       " </p>\n",
       " <p class=\"excerpt\">\n",
       " Fight the winter doldrums with four fresh takes on the supernatural.\n",
       " </p>\n",
       " <div class=\"read-full\">\n",
       " <a href=\"/features/25907-book-clubs-february-2021-fiction\">Read More <i class=\"zmdi zmdi-chevron-right\"></i></a>\n",
       " </div>\n",
       " </div>,\n",
       " <div class=\"content\">\n",
       " <h4 class=\"italic\">\n",
       " <a href=\"/features/25906-romance-february-2021-romance\">Romance: February 2021</a>\n",
       " </h4>\n",
       " <p class=\"sans bold\">\n",
       " Feature by Christie Ridgway\n",
       " </p>\n",
       " <p class=\"genre-links hidden-phone\">\n",
       " <a href=\"/search?book_genre=romance\">Romance</a>\n",
       "  / \n",
       " <a href=\"/search?book_genre=paranormal_romance\">Paranormal Romance</a>\n",
       "  / \n",
       " <a href=\"/search?book_genre=historical_romance\">Historical Romance</a>\n",
       " </p>\n",
       " <p class=\"excerpt\">\n",
       " Whether you’re a longtime romance fan or are jumping in to the genre for the first time, celebrate Valentine’s Day with a love story.\n",
       " </p>\n",
       " <div class=\"read-full\">\n",
       " <a href=\"/features/25906-romance-february-2021-romance\">Read More <i class=\"zmdi zmdi-chevron-right\"></i></a>\n",
       " </div>\n",
       " </div>,\n",
       " <div class=\"content\">\n",
       " <h4 class=\"italic\">\n",
       " <a href=\"/reviews/25951-cynthia-leitich-smith-ancestor-approved-childrens\">Ancestor Approved</a>\n",
       " </h4>\n",
       " <p class=\"sans bold\">\n",
       " Review by Hannah Lamb\n",
       " </p>\n",
       " <p class=\"genre-links hidden-phone\">\n",
       " <a href=\"/search?book_genre=children_s\">Children's</a>\n",
       "  / \n",
       " <a href=\"/search?book_genre=middle_grade\">Middle Grade</a>\n",
       " </p>\n",
       " <p class=\"excerpt\">\n",
       " Ancestor Approved shines a long overdue spotlight on a joyful aspect of Native life in America today.\n",
       " </p>\n",
       " <div class=\"read-full\">\n",
       " <a href=\"/reviews/25951-cynthia-leitich-smith-ancestor-approved-childrens\">Read More <i class=\"zmdi zmdi-chevron-right\"></i></a>\n",
       " </div>\n",
       " </div>,\n",
       " <div class=\"content\">\n",
       " <h4 class=\"italic\">\n",
       " <a href=\"/reviews/25949-gideon-sterer-midnight-fair-childrens\"> <span style=\"font-style:normal;\">★ </span>The Midnight Fair</a>\n",
       " </h4>\n",
       " <p class=\"sans bold\">\n",
       " Review by Jill Lorenzini\n",
       " </p>\n",
       " <p class=\"genre-links hidden-phone\">\n",
       " <a href=\"/search?book_genre=children_s\">Children's</a>\n",
       "  / \n",
       " <a href=\"/search?book_genre=children_s_picture_book\">Children's Picture Book</a>\n",
       " </p>\n",
       " <p class=\"excerpt\">\n",
       " The Midnight Fair may be a wordless picture book, but its story is clear, compelling and utterly enchanting.\n",
       " </p>\n",
       " <div class=\"read-full\">\n",
       " <a href=\"/reviews/25949-gideon-sterer-midnight-fair-childrens\">Read More <i class=\"zmdi zmdi-chevron-right\"></i></a>\n",
       " </div>\n",
       " </div>]"
      ]
     },
     "execution_count": 842,
     "metadata": {},
     "output_type": "execute_result"
    }
   ],
   "source": [
    "book=soup.find_all('div',class_=\"content\")\n",
    "book[0:4]"
   ]
  },
  {
   "cell_type": "code",
   "execution_count": 843,
   "metadata": {},
   "outputs": [],
   "source": [
    "for i in book:\n",
    "    Book_names.append(i.get_text().replace('\\n',''))\n",
    "    Book_names[0:4]"
   ]
  },
  {
   "cell_type": "code",
   "execution_count": 844,
   "metadata": {},
   "outputs": [
    {
     "name": "stdout",
     "output_type": "stream",
     "text": [
      "6\n"
     ]
    }
   ],
   "source": [
    "print(len(Book_names))"
   ]
  },
  {
   "cell_type": "code",
   "execution_count": 845,
   "metadata": {},
   "outputs": [
    {
     "data": {
      "text/plain": [
       "[<p class=\"sans bold\">\n",
       " Feature by Julie Hale\n",
       " </p>,\n",
       " <p class=\"sans bold\">\n",
       " Feature by Christie Ridgway\n",
       " </p>,\n",
       " <p class=\"sans bold\">\n",
       " Review by Hannah Lamb\n",
       " </p>,\n",
       " <p class=\"sans bold\">\n",
       " Review by Jill Lorenzini\n",
       " </p>]"
      ]
     },
     "execution_count": 845,
     "metadata": {},
     "output_type": "execute_result"
    }
   ],
   "source": [
    "author=soup.find_all('p',class_=\"sans bold\")\n",
    "author[0:4]"
   ]
  },
  {
   "cell_type": "code",
   "execution_count": 846,
   "metadata": {},
   "outputs": [],
   "source": [
    "for i in author:\n",
    "    Author_names.append(i.get_text().replace('\\n',''))\n",
    "    Author_names[0:4]"
   ]
  },
  {
   "cell_type": "code",
   "execution_count": 847,
   "metadata": {},
   "outputs": [
    {
     "name": "stdout",
     "output_type": "stream",
     "text": [
      "6\n"
     ]
    }
   ],
   "source": [
    "print(len(Author_names))"
   ]
  },
  {
   "cell_type": "code",
   "execution_count": 848,
   "metadata": {},
   "outputs": [
    {
     "data": {
      "text/plain": [
       "[<p class=\"genre-links hidden-phone\">\n",
       " <a href=\"/search?book_genre=fiction\">Fiction</a>\n",
       "  / \n",
       " <a href=\"/search?book_genre=popular_fiction\">Popular Fiction</a>\n",
       "  / \n",
       " <a href=\"/search?book_genre=science_fiction_fantasy\">Science Fiction &amp; Fantasy</a>\n",
       " </p>,\n",
       " <p class=\"genre-links hidden-phone\">\n",
       " <a href=\"/search?book_genre=romance\">Romance</a>\n",
       "  / \n",
       " <a href=\"/search?book_genre=paranormal_romance\">Paranormal Romance</a>\n",
       "  / \n",
       " <a href=\"/search?book_genre=historical_romance\">Historical Romance</a>\n",
       " </p>,\n",
       " <p class=\"genre-links hidden-phone\">\n",
       " <a href=\"/search?book_genre=children_s\">Children's</a>\n",
       "  / \n",
       " <a href=\"/search?book_genre=middle_grade\">Middle Grade</a>\n",
       " </p>,\n",
       " <p class=\"genre-links hidden-phone\">\n",
       " <a href=\"/search?book_genre=children_s\">Children's</a>\n",
       "  / \n",
       " <a href=\"/search?book_genre=children_s_picture_book\">Children's Picture Book</a>\n",
       " </p>]"
      ]
     },
     "execution_count": 848,
     "metadata": {},
     "output_type": "execute_result"
    }
   ],
   "source": [
    "genre=soup.find_all('p',class_=\"genre-links hidden-phone\")\n",
    "genre[0:4]"
   ]
  },
  {
   "cell_type": "code",
   "execution_count": 849,
   "metadata": {},
   "outputs": [],
   "source": [
    "for i in genre:\n",
    "    Genre.append(i.get_text().replace('\\n',''))\n",
    "    Genre[0:4]"
   ]
  },
  {
   "cell_type": "code",
   "execution_count": 850,
   "metadata": {},
   "outputs": [
    {
     "name": "stdout",
     "output_type": "stream",
     "text": [
      "6\n"
     ]
    }
   ],
   "source": [
    "print(len(Genre))"
   ]
  },
  {
   "cell_type": "code",
   "execution_count": 851,
   "metadata": {},
   "outputs": [
    {
     "data": {
      "text/plain": [
       "[<p class=\"excerpt\">\n",
       " Fight the winter doldrums with four fresh takes on the supernatural.\n",
       " </p>,\n",
       " <p class=\"excerpt\">\n",
       " Whether you’re a longtime romance fan or are jumping in to the genre for the first time, celebrate Valentine’s Day with a love story.\n",
       " </p>,\n",
       " <p class=\"excerpt\">\n",
       " Ancestor Approved shines a long overdue spotlight on a joyful aspect of Native life in America today.\n",
       " </p>,\n",
       " <p class=\"excerpt\">\n",
       " The Midnight Fair may be a wordless picture book, but its story is clear, compelling and utterly enchanting.\n",
       " </p>]"
      ]
     },
     "execution_count": 851,
     "metadata": {},
     "output_type": "execute_result"
    }
   ],
   "source": [
    "review=soup.find_all('p',class_=\"excerpt\")\n",
    "review[0:4]"
   ]
  },
  {
   "cell_type": "code",
   "execution_count": 852,
   "metadata": {},
   "outputs": [],
   "source": [
    "for i in review:\n",
    "    Book_review.append(i.get_text().replace('\\n',''))\n",
    "    Book_review[0:4]"
   ]
  },
  {
   "cell_type": "code",
   "execution_count": 853,
   "metadata": {},
   "outputs": [
    {
     "name": "stdout",
     "output_type": "stream",
     "text": [
      "6\n"
     ]
    }
   ],
   "source": [
    "print(len(Book_review))"
   ]
  },
  {
   "cell_type": "code",
   "execution_count": 854,
   "metadata": {},
   "outputs": [],
   "source": [
    "import pandas as pd\n",
    "book=pd.DataFrame({})\n",
    "book['name']=Book_names[:5]\n",
    "book['author']=Author_names[:5]\n",
    "book['genre']=Genre[:5]\n",
    "book['review']=Book_review[:5]"
   ]
  },
  {
   "cell_type": "code",
   "execution_count": 855,
   "metadata": {},
   "outputs": [
    {
     "data": {
      "text/html": [
       "<div>\n",
       "<style scoped>\n",
       "    .dataframe tbody tr th:only-of-type {\n",
       "        vertical-align: middle;\n",
       "    }\n",
       "\n",
       "    .dataframe tbody tr th {\n",
       "        vertical-align: top;\n",
       "    }\n",
       "\n",
       "    .dataframe thead th {\n",
       "        text-align: right;\n",
       "    }\n",
       "</style>\n",
       "<table border=\"1\" class=\"dataframe\">\n",
       "  <thead>\n",
       "    <tr style=\"text-align: right;\">\n",
       "      <th></th>\n",
       "      <th>name</th>\n",
       "      <th>author</th>\n",
       "      <th>genre</th>\n",
       "      <th>review</th>\n",
       "    </tr>\n",
       "  </thead>\n",
       "  <tbody>\n",
       "    <tr>\n",
       "      <th>0</th>\n",
       "      <td>Book Clubs: February 2021Feature by Julie Hale...</td>\n",
       "      <td>Feature by Julie Hale</td>\n",
       "      <td>Fiction / Popular Fiction / Science Fiction &amp; ...</td>\n",
       "      <td>Fight the winter doldrums with four fresh take...</td>\n",
       "    </tr>\n",
       "    <tr>\n",
       "      <th>1</th>\n",
       "      <td>Romance: February 2021Feature by Christie Ridg...</td>\n",
       "      <td>Feature by Christie Ridgway</td>\n",
       "      <td>Romance / Paranormal Romance / Historical Romance</td>\n",
       "      <td>Whether you’re a longtime romance fan or are j...</td>\n",
       "    </tr>\n",
       "    <tr>\n",
       "      <th>2</th>\n",
       "      <td>Ancestor ApprovedReview by Hannah LambChildren...</td>\n",
       "      <td>Review by Hannah Lamb</td>\n",
       "      <td>Children's / Middle Grade</td>\n",
       "      <td>Ancestor Approved shines a long overdue spotli...</td>\n",
       "    </tr>\n",
       "    <tr>\n",
       "      <th>3</th>\n",
       "      <td>★ The Midnight FairReview by Jill LorenziniCh...</td>\n",
       "      <td>Review by Jill Lorenzini</td>\n",
       "      <td>Children's / Children's Picture Book</td>\n",
       "      <td>The Midnight Fair may be a wordless picture bo...</td>\n",
       "    </tr>\n",
       "    <tr>\n",
       "      <th>4</th>\n",
       "      <td>★ City of the Uncommon ThiefReview by Luis G....</td>\n",
       "      <td>Review by Luis G. Rendon</td>\n",
       "      <td>YA / YA Fiction</td>\n",
       "      <td>City of the Uncommon Thief is genre-defying fi...</td>\n",
       "    </tr>\n",
       "  </tbody>\n",
       "</table>\n",
       "</div>"
      ],
      "text/plain": [
       "                                                name  \\\n",
       "0  Book Clubs: February 2021Feature by Julie Hale...   \n",
       "1  Romance: February 2021Feature by Christie Ridg...   \n",
       "2  Ancestor ApprovedReview by Hannah LambChildren...   \n",
       "3   ★ The Midnight FairReview by Jill LorenziniCh...   \n",
       "4   ★ City of the Uncommon ThiefReview by Luis G....   \n",
       "\n",
       "                        author  \\\n",
       "0        Feature by Julie Hale   \n",
       "1  Feature by Christie Ridgway   \n",
       "2        Review by Hannah Lamb   \n",
       "3     Review by Jill Lorenzini   \n",
       "4     Review by Luis G. Rendon   \n",
       "\n",
       "                                               genre  \\\n",
       "0  Fiction / Popular Fiction / Science Fiction & ...   \n",
       "1  Romance / Paranormal Romance / Historical Romance   \n",
       "2                          Children's / Middle Grade   \n",
       "3               Children's / Children's Picture Book   \n",
       "4                                    YA / YA Fiction   \n",
       "\n",
       "                                              review  \n",
       "0  Fight the winter doldrums with four fresh take...  \n",
       "1  Whether you’re a longtime romance fan or are j...  \n",
       "2  Ancestor Approved shines a long overdue spotli...  \n",
       "3  The Midnight Fair may be a wordless picture bo...  \n",
       "4  City of the Uncommon Thief is genre-defying fi...  "
      ]
     },
     "execution_count": 855,
     "metadata": {},
     "output_type": "execute_result"
    }
   ],
   "source": [
    "book"
   ]
  },
  {
   "cell_type": "markdown",
   "metadata": {},
   "source": [
    "# 5) Write a python program to scrape cricket rankings from ‘www.icc-cricket.com’. You have to scrape:\n",
    "i) Top 10 ODI teams in men’s cricket along with the records for matches, points and rating.\n",
    "ii) Top 10 ODI Batsmen in men along with the records of their team and rating.\n",
    "iii) Top 10 ODI bowlers along with the records of their team and rating."
   ]
  },
  {
   "cell_type": "code",
   "execution_count": 856,
   "metadata": {},
   "outputs": [],
   "source": [
    "import pandas as pd\n",
    "import numpy as np\n",
    "import requests\n",
    "from requests import get\n",
    "from bs4 import BeautifulSoup"
   ]
  },
  {
   "cell_type": "markdown",
   "metadata": {},
   "source": [
    "i) Top 10 ODI teams in men’s cricket along with the records for matches, points and rating"
   ]
  },
  {
   "cell_type": "code",
   "execution_count": 857,
   "metadata": {},
   "outputs": [],
   "source": [
    "page=requests.get(\"https://www.icc-cricket.com/rankings/mens/team-rankings/odi\")"
   ]
  },
  {
   "cell_type": "code",
   "execution_count": 858,
   "metadata": {},
   "outputs": [],
   "source": [
    "soup=BeautifulSoup(page.content,'html.parser')"
   ]
  },
  {
   "cell_type": "code",
   "execution_count": 859,
   "metadata": {},
   "outputs": [],
   "source": [
    "Top_teams=[]\n",
    "Records=[]\n",
    "Points=[]\n",
    "Rating=[]"
   ]
  },
  {
   "cell_type": "code",
   "execution_count": 860,
   "metadata": {},
   "outputs": [
    {
     "data": {
      "text/plain": [
       "[<span class=\"u-hide-phablet\">England</span>,\n",
       " <span class=\"u-hide-phablet\">India</span>,\n",
       " <span class=\"u-hide-phablet\">New Zealand</span>,\n",
       " <span class=\"u-hide-phablet\">Australia</span>]"
      ]
     },
     "execution_count": 860,
     "metadata": {},
     "output_type": "execute_result"
    }
   ],
   "source": [
    "teams=soup.find_all('span',class_=\"u-hide-phablet\")\n",
    "teams[0:4]"
   ]
  },
  {
   "cell_type": "code",
   "execution_count": 861,
   "metadata": {},
   "outputs": [],
   "source": [
    "for i in teams:\n",
    "    Top_teams.append(i.get_text())\n",
    "    Top_teams[0:4]"
   ]
  },
  {
   "cell_type": "code",
   "execution_count": 862,
   "metadata": {},
   "outputs": [
    {
     "name": "stdout",
     "output_type": "stream",
     "text": [
      "25\n"
     ]
    }
   ],
   "source": [
    "print(len(Top_teams))"
   ]
  },
  {
   "cell_type": "code",
   "execution_count": 863,
   "metadata": {},
   "outputs": [
    {
     "data": {
      "text/plain": [
       "[<td class=\"table-body__cell u-center-text\">52</td>,\n",
       " <td class=\"table-body__cell u-center-text\">6,102</td>,\n",
       " <td class=\"table-body__cell u-center-text\">32</td>,\n",
       " <td class=\"table-body__cell u-center-text\">3,716</td>]"
      ]
     },
     "execution_count": 863,
     "metadata": {},
     "output_type": "execute_result"
    }
   ],
   "source": [
    "record=soup.find_all('td',class_=\"table-body__cell u-center-text\")\n",
    "record[0:4]"
   ]
  },
  {
   "cell_type": "code",
   "execution_count": 864,
   "metadata": {},
   "outputs": [],
   "source": [
    "for i in record:\n",
    "    Records.append(i.get_text())\n",
    "    Records[0:4]"
   ]
  },
  {
   "cell_type": "code",
   "execution_count": 865,
   "metadata": {},
   "outputs": [
    {
     "name": "stdout",
     "output_type": "stream",
     "text": [
      "38\n"
     ]
    }
   ],
   "source": [
    "print(len(Records))"
   ]
  },
  {
   "cell_type": "code",
   "execution_count": 866,
   "metadata": {},
   "outputs": [
    {
     "data": {
      "text/plain": [
       "[<td class=\"table-body__cell u-center-text\">52</td>,\n",
       " <td class=\"table-body__cell u-center-text\">6,102</td>,\n",
       " <td class=\"table-body__cell u-center-text\">32</td>,\n",
       " <td class=\"table-body__cell u-center-text\">3,716</td>]"
      ]
     },
     "execution_count": 866,
     "metadata": {},
     "output_type": "execute_result"
    }
   ],
   "source": [
    "points=soup.find_all('td',class_=\"table-body__cell u-center-text\")\n",
    "points[0:4]"
   ]
  },
  {
   "cell_type": "code",
   "execution_count": 867,
   "metadata": {},
   "outputs": [],
   "source": [
    "for i in points:\n",
    "    Points.append(i.get_text())\n",
    "    Points[0:4]"
   ]
  },
  {
   "cell_type": "code",
   "execution_count": 868,
   "metadata": {},
   "outputs": [
    {
     "name": "stdout",
     "output_type": "stream",
     "text": [
      "38\n"
     ]
    }
   ],
   "source": [
    "print(len(Points))"
   ]
  },
  {
   "cell_type": "code",
   "execution_count": 869,
   "metadata": {},
   "outputs": [
    {
     "data": {
      "text/plain": [
       "[<td class=\"table-body__cell u-text-right rating\">117</td>,\n",
       " <td class=\"table-body__cell u-text-right rating\">116</td>,\n",
       " <td class=\"table-body__cell u-text-right rating\">111</td>,\n",
       " <td class=\"table-body__cell u-text-right rating\">108</td>]"
      ]
     },
     "execution_count": 869,
     "metadata": {},
     "output_type": "execute_result"
    }
   ],
   "source": [
    "rating=soup.find_all('td',class_=\"table-body__cell u-text-right rating\")\n",
    "rating[0:4]"
   ]
  },
  {
   "cell_type": "code",
   "execution_count": 870,
   "metadata": {},
   "outputs": [],
   "source": [
    "for i in rating:\n",
    "    Rating.append(i.get_text())\n",
    "    Rating[0:4]"
   ]
  },
  {
   "cell_type": "code",
   "execution_count": 871,
   "metadata": {},
   "outputs": [
    {
     "name": "stdout",
     "output_type": "stream",
     "text": [
      "38\n"
     ]
    }
   ],
   "source": [
    "print(len(Points))"
   ]
  },
  {
   "cell_type": "code",
   "execution_count": 872,
   "metadata": {},
   "outputs": [],
   "source": [
    "import pandas as pd\n",
    "ICC_mens=pd.DataFrame({})\n",
    "ICC_mens['teams']=Top_teams[:10]\n",
    "ICC_mens['record']=Records[:10]\n",
    "ICC_mens['points']=Points[:10]\n",
    "ICC_mens['rating']=Rating[:10]"
   ]
  },
  {
   "cell_type": "code",
   "execution_count": 873,
   "metadata": {},
   "outputs": [
    {
     "data": {
      "text/html": [
       "<div>\n",
       "<style scoped>\n",
       "    .dataframe tbody tr th:only-of-type {\n",
       "        vertical-align: middle;\n",
       "    }\n",
       "\n",
       "    .dataframe tbody tr th {\n",
       "        vertical-align: top;\n",
       "    }\n",
       "\n",
       "    .dataframe thead th {\n",
       "        text-align: right;\n",
       "    }\n",
       "</style>\n",
       "<table border=\"1\" class=\"dataframe\">\n",
       "  <thead>\n",
       "    <tr style=\"text-align: right;\">\n",
       "      <th></th>\n",
       "      <th>teams</th>\n",
       "      <th>record</th>\n",
       "      <th>points</th>\n",
       "      <th>rating</th>\n",
       "    </tr>\n",
       "  </thead>\n",
       "  <tbody>\n",
       "    <tr>\n",
       "      <th>0</th>\n",
       "      <td>England</td>\n",
       "      <td>52</td>\n",
       "      <td>52</td>\n",
       "      <td>117</td>\n",
       "    </tr>\n",
       "    <tr>\n",
       "      <th>1</th>\n",
       "      <td>India</td>\n",
       "      <td>6,102</td>\n",
       "      <td>6,102</td>\n",
       "      <td>116</td>\n",
       "    </tr>\n",
       "    <tr>\n",
       "      <th>2</th>\n",
       "      <td>New Zealand</td>\n",
       "      <td>32</td>\n",
       "      <td>32</td>\n",
       "      <td>111</td>\n",
       "    </tr>\n",
       "    <tr>\n",
       "      <th>3</th>\n",
       "      <td>Australia</td>\n",
       "      <td>3,716</td>\n",
       "      <td>3,716</td>\n",
       "      <td>108</td>\n",
       "    </tr>\n",
       "    <tr>\n",
       "      <th>4</th>\n",
       "      <td>South Africa</td>\n",
       "      <td>39</td>\n",
       "      <td>39</td>\n",
       "      <td>100</td>\n",
       "    </tr>\n",
       "    <tr>\n",
       "      <th>5</th>\n",
       "      <td>Pakistan</td>\n",
       "      <td>4,344</td>\n",
       "      <td>4,344</td>\n",
       "      <td>91</td>\n",
       "    </tr>\n",
       "    <tr>\n",
       "      <th>6</th>\n",
       "      <td>Bangladesh</td>\n",
       "      <td>31</td>\n",
       "      <td>31</td>\n",
       "      <td>85</td>\n",
       "    </tr>\n",
       "    <tr>\n",
       "      <th>7</th>\n",
       "      <td>Sri Lanka</td>\n",
       "      <td>3,345</td>\n",
       "      <td>3,345</td>\n",
       "      <td>74</td>\n",
       "    </tr>\n",
       "    <tr>\n",
       "      <th>8</th>\n",
       "      <td>West Indies</td>\n",
       "      <td>35</td>\n",
       "      <td>35</td>\n",
       "      <td>59</td>\n",
       "    </tr>\n",
       "    <tr>\n",
       "      <th>9</th>\n",
       "      <td>Afghanistan</td>\n",
       "      <td>3,490</td>\n",
       "      <td>3,490</td>\n",
       "      <td>45</td>\n",
       "    </tr>\n",
       "  </tbody>\n",
       "</table>\n",
       "</div>"
      ],
      "text/plain": [
       "          teams record points rating\n",
       "0       England     52     52    117\n",
       "1         India  6,102  6,102    116\n",
       "2   New Zealand     32     32    111\n",
       "3     Australia  3,716  3,716    108\n",
       "4  South Africa     39     39    100\n",
       "5      Pakistan  4,344  4,344     91\n",
       "6    Bangladesh     31     31     85\n",
       "7     Sri Lanka  3,345  3,345     74\n",
       "8   West Indies     35     35     59\n",
       "9   Afghanistan  3,490  3,490     45"
      ]
     },
     "execution_count": 873,
     "metadata": {},
     "output_type": "execute_result"
    }
   ],
   "source": [
    "ICC_mens"
   ]
  },
  {
   "cell_type": "markdown",
   "metadata": {},
   "source": [
    " ii) Top 10 ODI Batsmen in men along with the records of their team and rating. "
   ]
  },
  {
   "cell_type": "code",
   "execution_count": 874,
   "metadata": {},
   "outputs": [],
   "source": [
    "page=requests.get(\"https://www.icc-cricket.com/rankings/mens/player-rankings/odi\")"
   ]
  },
  {
   "cell_type": "code",
   "execution_count": 875,
   "metadata": {},
   "outputs": [],
   "source": [
    "soup=BeautifulSoup(page.content,'html.parser')"
   ]
  },
  {
   "cell_type": "code",
   "execution_count": 876,
   "metadata": {},
   "outputs": [],
   "source": [
    "Batsman=[]\n",
    "Team=[]\n",
    "Rating=[]"
   ]
  },
  {
   "cell_type": "code",
   "execution_count": 877,
   "metadata": {},
   "outputs": [
    {
     "data": {
      "text/plain": [
       "[<td class=\"table-body__cell name\">\n",
       " <a href=\"/rankings/mens/player-rankings/107\">Rohit Sharma</a>\n",
       " </td>,\n",
       " <td class=\"table-body__cell name\">\n",
       " <a href=\"/rankings/mens/player-rankings/2759\">Babar Azam</a>\n",
       " </td>,\n",
       " <td class=\"table-body__cell name\">\n",
       " <a href=\"/rankings/mens/player-rankings/226\">Ross Taylor</a>\n",
       " </td>]"
      ]
     },
     "execution_count": 877,
     "metadata": {},
     "output_type": "execute_result"
    }
   ],
   "source": [
    "player=soup.find_all('td',class_=\"table-body__cell name\")\n",
    "player[0:3]"
   ]
  },
  {
   "cell_type": "code",
   "execution_count": 878,
   "metadata": {},
   "outputs": [],
   "source": [
    "for i in player:\n",
    "    Batsman.append(i.get_text().replace('\\n',''))\n",
    "    Batsman[0:4]"
   ]
  },
  {
   "cell_type": "code",
   "execution_count": 879,
   "metadata": {},
   "outputs": [
    {
     "name": "stdout",
     "output_type": "stream",
     "text": [
      "54\n"
     ]
    }
   ],
   "source": [
    "print(len(Batsman))"
   ]
  },
  {
   "cell_type": "code",
   "execution_count": 880,
   "metadata": {},
   "outputs": [
    {
     "data": {
      "text/plain": [
       "[<span class=\"table-body__logo-text\">IND</span>,\n",
       " <span class=\"table-body__logo-text\">PAK</span>,\n",
       " <span class=\"table-body__logo-text\">NZ</span>]"
      ]
     },
     "execution_count": 880,
     "metadata": {},
     "output_type": "execute_result"
    }
   ],
   "source": [
    "team=soup.find_all('span',class_=\"table-body__logo-text\")\n",
    "team[0:3]"
   ]
  },
  {
   "cell_type": "code",
   "execution_count": 881,
   "metadata": {},
   "outputs": [],
   "source": [
    "for i in team:\n",
    "    Team.append(i.get_text())\n",
    "    Team[0:4]"
   ]
  },
  {
   "cell_type": "code",
   "execution_count": 882,
   "metadata": {},
   "outputs": [
    {
     "name": "stdout",
     "output_type": "stream",
     "text": [
      "54\n"
     ]
    }
   ],
   "source": [
    "print(len(Team))"
   ]
  },
  {
   "cell_type": "code",
   "execution_count": 883,
   "metadata": {},
   "outputs": [
    {
     "data": {
      "text/plain": [
       "[<td class=\"table-body__cell u-text-right rating\">842</td>,\n",
       " <td class=\"table-body__cell u-text-right rating\">837</td>,\n",
       " <td class=\"table-body__cell u-text-right rating\">818</td>]"
      ]
     },
     "execution_count": 883,
     "metadata": {},
     "output_type": "execute_result"
    }
   ],
   "source": [
    "rating=soup.find_all('td',class_=\"table-body__cell u-text-right rating\")\n",
    "rating[0:3]"
   ]
  },
  {
   "cell_type": "code",
   "execution_count": 884,
   "metadata": {},
   "outputs": [],
   "source": [
    "for i in rating:\n",
    "    Rating.append(i.get_text())\n",
    "    Rating[0:4]"
   ]
  },
  {
   "cell_type": "code",
   "execution_count": 885,
   "metadata": {},
   "outputs": [
    {
     "name": "stdout",
     "output_type": "stream",
     "text": [
      "54\n"
     ]
    }
   ],
   "source": [
    "print(len(Rating))"
   ]
  },
  {
   "cell_type": "code",
   "execution_count": 886,
   "metadata": {},
   "outputs": [],
   "source": [
    "import pandas as pd\n",
    "ICC_batsman=pd.DataFrame({})\n",
    "ICC_batsman['player']=Batsman[:10]\n",
    "ICC_batsman['team']=Team[:10]\n",
    "ICC_batsman['rating']=Rating[:10]"
   ]
  },
  {
   "cell_type": "code",
   "execution_count": 887,
   "metadata": {},
   "outputs": [
    {
     "data": {
      "text/html": [
       "<div>\n",
       "<style scoped>\n",
       "    .dataframe tbody tr th:only-of-type {\n",
       "        vertical-align: middle;\n",
       "    }\n",
       "\n",
       "    .dataframe tbody tr th {\n",
       "        vertical-align: top;\n",
       "    }\n",
       "\n",
       "    .dataframe thead th {\n",
       "        text-align: right;\n",
       "    }\n",
       "</style>\n",
       "<table border=\"1\" class=\"dataframe\">\n",
       "  <thead>\n",
       "    <tr style=\"text-align: right;\">\n",
       "      <th></th>\n",
       "      <th>player</th>\n",
       "      <th>team</th>\n",
       "      <th>rating</th>\n",
       "    </tr>\n",
       "  </thead>\n",
       "  <tbody>\n",
       "    <tr>\n",
       "      <th>0</th>\n",
       "      <td>Rohit Sharma</td>\n",
       "      <td>IND</td>\n",
       "      <td>842</td>\n",
       "    </tr>\n",
       "    <tr>\n",
       "      <th>1</th>\n",
       "      <td>Babar Azam</td>\n",
       "      <td>PAK</td>\n",
       "      <td>837</td>\n",
       "    </tr>\n",
       "    <tr>\n",
       "      <th>2</th>\n",
       "      <td>Ross Taylor</td>\n",
       "      <td>NZ</td>\n",
       "      <td>818</td>\n",
       "    </tr>\n",
       "    <tr>\n",
       "      <th>3</th>\n",
       "      <td>Aaron Finch</td>\n",
       "      <td>AUS</td>\n",
       "      <td>791</td>\n",
       "    </tr>\n",
       "    <tr>\n",
       "      <th>4</th>\n",
       "      <td>Francois du Plessis</td>\n",
       "      <td>SA</td>\n",
       "      <td>790</td>\n",
       "    </tr>\n",
       "    <tr>\n",
       "      <th>5</th>\n",
       "      <td>David Warner</td>\n",
       "      <td>AUS</td>\n",
       "      <td>773</td>\n",
       "    </tr>\n",
       "    <tr>\n",
       "      <th>6</th>\n",
       "      <td>Kane Williamson</td>\n",
       "      <td>NZ</td>\n",
       "      <td>765</td>\n",
       "    </tr>\n",
       "    <tr>\n",
       "      <th>7</th>\n",
       "      <td>Quinton de Kock</td>\n",
       "      <td>SA</td>\n",
       "      <td>755</td>\n",
       "    </tr>\n",
       "    <tr>\n",
       "      <th>8</th>\n",
       "      <td>Jonny Bairstow</td>\n",
       "      <td>ENG</td>\n",
       "      <td>754</td>\n",
       "    </tr>\n",
       "    <tr>\n",
       "      <th>9</th>\n",
       "      <td>Mujeeb Ur Rahman</td>\n",
       "      <td>AFG</td>\n",
       "      <td>708</td>\n",
       "    </tr>\n",
       "  </tbody>\n",
       "</table>\n",
       "</div>"
      ],
      "text/plain": [
       "                player team rating\n",
       "0         Rohit Sharma  IND    842\n",
       "1           Babar Azam  PAK    837\n",
       "2          Ross Taylor   NZ    818\n",
       "3          Aaron Finch  AUS    791\n",
       "4  Francois du Plessis   SA    790\n",
       "5         David Warner  AUS    773\n",
       "6      Kane Williamson   NZ    765\n",
       "7      Quinton de Kock   SA    755\n",
       "8       Jonny Bairstow  ENG    754\n",
       "9     Mujeeb Ur Rahman  AFG    708"
      ]
     },
     "execution_count": 887,
     "metadata": {},
     "output_type": "execute_result"
    }
   ],
   "source": [
    "ICC_batsman"
   ]
  },
  {
   "cell_type": "markdown",
   "metadata": {},
   "source": [
    " iii) Top 10 ODI bowlers along with the records of their team and rating."
   ]
  },
  {
   "cell_type": "code",
   "execution_count": 888,
   "metadata": {},
   "outputs": [],
   "source": [
    "Bowler=[]\n",
    "Team=[]\n",
    "Rating=[]"
   ]
  },
  {
   "cell_type": "code",
   "execution_count": 889,
   "metadata": {},
   "outputs": [
    {
     "data": {
      "text/plain": [
       "[<td class=\"table-body__cell name\">\n",
       " <a href=\"/rankings/mens/player-rankings/107\">Rohit Sharma</a>\n",
       " </td>,\n",
       " <td class=\"table-body__cell name\">\n",
       " <a href=\"/rankings/mens/player-rankings/2759\">Babar Azam</a>\n",
       " </td>,\n",
       " <td class=\"table-body__cell name\">\n",
       " <a href=\"/rankings/mens/player-rankings/226\">Ross Taylor</a>\n",
       " </td>]"
      ]
     },
     "execution_count": 889,
     "metadata": {},
     "output_type": "execute_result"
    }
   ],
   "source": [
    "bowler=soup.find_all('td',class_=\"table-body__cell name\")\n",
    "bowler[0:3]"
   ]
  },
  {
   "cell_type": "code",
   "execution_count": 890,
   "metadata": {},
   "outputs": [],
   "source": [
    "for i in bowler:\n",
    "    Bowler.append(i.get_text())\n",
    "    Bowler[0:4]"
   ]
  },
  {
   "cell_type": "code",
   "execution_count": 891,
   "metadata": {},
   "outputs": [
    {
     "name": "stdout",
     "output_type": "stream",
     "text": [
      "54\n"
     ]
    }
   ],
   "source": [
    "print(len(Bowler))"
   ]
  },
  {
   "cell_type": "code",
   "execution_count": 892,
   "metadata": {},
   "outputs": [
    {
     "data": {
      "text/plain": [
       "[<span class=\"table-body__logo-text\">IND</span>,\n",
       " <span class=\"table-body__logo-text\">PAK</span>,\n",
       " <span class=\"table-body__logo-text\">NZ</span>]"
      ]
     },
     "execution_count": 892,
     "metadata": {},
     "output_type": "execute_result"
    }
   ],
   "source": [
    "team=soup.find_all('span',class_=\"table-body__logo-text\")\n",
    "team[0:3]"
   ]
  },
  {
   "cell_type": "code",
   "execution_count": 893,
   "metadata": {},
   "outputs": [],
   "source": [
    "for i in team:\n",
    "    Team.append(i.get_text())\n",
    "    Team[0:4]"
   ]
  },
  {
   "cell_type": "code",
   "execution_count": 894,
   "metadata": {},
   "outputs": [
    {
     "data": {
      "text/plain": [
       "[<td class=\"table-body__cell u-text-right rating\">842</td>,\n",
       " <td class=\"table-body__cell u-text-right rating\">837</td>,\n",
       " <td class=\"table-body__cell u-text-right rating\">818</td>]"
      ]
     },
     "execution_count": 894,
     "metadata": {},
     "output_type": "execute_result"
    }
   ],
   "source": [
    "rating=soup.find_all('td',class_=\"table-body__cell u-text-right rating\")\n",
    "rating[0:3]"
   ]
  },
  {
   "cell_type": "code",
   "execution_count": 895,
   "metadata": {},
   "outputs": [],
   "source": [
    "for i in rating:\n",
    "    Rating.append(i.get_text())\n",
    "    Rating[0:4]"
   ]
  },
  {
   "cell_type": "code",
   "execution_count": 896,
   "metadata": {},
   "outputs": [],
   "source": [
    "import pandas as pd\n",
    "ICC_bowler=pd.DataFrame({})\n",
    "ICC_bowler['bowler']=Bowler[:10]\n",
    "ICC_bowler['team']=Team[:10]\n",
    "ICC_bowler['rating']=Rating[:10]"
   ]
  },
  {
   "cell_type": "markdown",
   "metadata": {},
   "source": [
    "# 6)Write a python program to scrape cricket rankings from ‘www.icc-cricket.com’. You have to scrape:\n",
    "i) Top 10 ODI teams in women’s cricket along with the records for matches, points and rating.\n",
    "ii) Top 10 women’s ODI players along with the records of their team and rating.\n",
    "iii) Top 10 women’s ODI all-rounder along with the records of their team and rating."
   ]
  },
  {
   "cell_type": "code",
   "execution_count": 897,
   "metadata": {},
   "outputs": [],
   "source": [
    "import pandas as pd\n",
    "import numpy as np\n",
    "import requests\n",
    "from requests import get\n",
    "from bs4 import BeautifulSoup"
   ]
  },
  {
   "cell_type": "markdown",
   "metadata": {},
   "source": [
    "i) Top 10 ODI teams in women’s cricket along with the records for matches, points and rating"
   ]
  },
  {
   "cell_type": "code",
   "execution_count": 898,
   "metadata": {},
   "outputs": [],
   "source": [
    "page=requests.get(\"https://www.icc-cricket.com/rankings/womens/team-rankings/odi\")"
   ]
  },
  {
   "cell_type": "code",
   "execution_count": 899,
   "metadata": {},
   "outputs": [],
   "source": [
    "soup=BeautifulSoup(page.content,'html.parser')"
   ]
  },
  {
   "cell_type": "code",
   "execution_count": 900,
   "metadata": {},
   "outputs": [],
   "source": [
    "Teams=[]\n",
    "Records=[]\n",
    "Points=[]\n",
    "Rating=[]"
   ]
  },
  {
   "cell_type": "code",
   "execution_count": 901,
   "metadata": {},
   "outputs": [
    {
     "data": {
      "text/plain": [
       "[<span class=\"u-hide-phablet\">Australia</span>,\n",
       " <span class=\"u-hide-phablet\">India</span>,\n",
       " <span class=\"u-hide-phablet\">England</span>,\n",
       " <span class=\"u-hide-phablet\">South Africa</span>]"
      ]
     },
     "execution_count": 901,
     "metadata": {},
     "output_type": "execute_result"
    }
   ],
   "source": [
    "team=soup.find_all('span',class_=\"u-hide-phablet\")\n",
    "team[0:4]"
   ]
  },
  {
   "cell_type": "code",
   "execution_count": 902,
   "metadata": {},
   "outputs": [],
   "source": [
    "for i in team:\n",
    "    Teams.append(i.get_text())\n",
    "    Teams[0:4]"
   ]
  },
  {
   "cell_type": "code",
   "execution_count": 903,
   "metadata": {},
   "outputs": [
    {
     "name": "stdout",
     "output_type": "stream",
     "text": [
      "15\n"
     ]
    }
   ],
   "source": [
    "print(len(Teams))"
   ]
  },
  {
   "cell_type": "code",
   "execution_count": 904,
   "metadata": {},
   "outputs": [
    {
     "data": {
      "text/plain": [
       "[<td class=\"table-body__cell u-center-text\">52</td>,\n",
       " <td class=\"table-body__cell u-center-text\">6,102</td>,\n",
       " <td class=\"table-body__cell u-center-text\">32</td>,\n",
       " <td class=\"table-body__cell u-center-text\">3,716</td>]"
      ]
     },
     "execution_count": 904,
     "metadata": {},
     "output_type": "execute_result"
    }
   ],
   "source": [
    "records=soup.find_all('td',class_=\"table-body__cell u-center-text\")\n",
    "record[0:4]"
   ]
  },
  {
   "cell_type": "code",
   "execution_count": 905,
   "metadata": {},
   "outputs": [],
   "source": [
    "for i in records:\n",
    "    Records.append(i.get_text())\n",
    "    Records[0:4]"
   ]
  },
  {
   "cell_type": "code",
   "execution_count": 906,
   "metadata": {},
   "outputs": [
    {
     "name": "stdout",
     "output_type": "stream",
     "text": [
      "18\n"
     ]
    }
   ],
   "source": [
    "print(len(Records))"
   ]
  },
  {
   "cell_type": "code",
   "execution_count": 907,
   "metadata": {},
   "outputs": [],
   "source": [
    "points=soup.find_all('td',class_=\"table-body__cell u-center-text\")\n",
    "points[0:4]\n",
    "for i in points:\n",
    "    Points.append(i.get_text())\n",
    "    Points[0:4]"
   ]
  },
  {
   "cell_type": "code",
   "execution_count": 908,
   "metadata": {},
   "outputs": [
    {
     "name": "stdout",
     "output_type": "stream",
     "text": [
      "18\n"
     ]
    }
   ],
   "source": [
    "print(len(Points))"
   ]
  },
  {
   "cell_type": "code",
   "execution_count": 917,
   "metadata": {},
   "outputs": [],
   "source": [
    "rating=soup.find_all('td',class_=\"table-body__cell u-text-right rating\")\n",
    "rating[0:4]\n",
    "for i in rating:\n",
    "    Rating.append(i.get_text())\n",
    "    Rating[0:4]"
   ]
  },
  {
   "cell_type": "code",
   "execution_count": 918,
   "metadata": {},
   "outputs": [
    {
     "name": "stdout",
     "output_type": "stream",
     "text": [
      "18\n"
     ]
    }
   ],
   "source": [
    "print(len(Rating))"
   ]
  },
  {
   "cell_type": "code",
   "execution_count": 921,
   "metadata": {},
   "outputs": [],
   "source": [
    "import pandas as pd\n",
    "ICC_womens=pd.DataFrame({})\n",
    "ICC_womens['team']=Teams[:10]\n",
    "ICC_womens['records']=Records[:10]\n",
    "ICC_womens['points']=Points[:10]\n",
    "ICC_womens['rating']=Rating[:10]"
   ]
  },
  {
   "cell_type": "code",
   "execution_count": 922,
   "metadata": {},
   "outputs": [
    {
     "data": {
      "text/html": [
       "<div>\n",
       "<style scoped>\n",
       "    .dataframe tbody tr th:only-of-type {\n",
       "        vertical-align: middle;\n",
       "    }\n",
       "\n",
       "    .dataframe tbody tr th {\n",
       "        vertical-align: top;\n",
       "    }\n",
       "\n",
       "    .dataframe thead th {\n",
       "        text-align: right;\n",
       "    }\n",
       "</style>\n",
       "<table border=\"1\" class=\"dataframe\">\n",
       "  <thead>\n",
       "    <tr style=\"text-align: right;\">\n",
       "      <th></th>\n",
       "      <th>team</th>\n",
       "      <th>records</th>\n",
       "      <th>points</th>\n",
       "      <th>rating</th>\n",
       "    </tr>\n",
       "  </thead>\n",
       "  <tbody>\n",
       "    <tr>\n",
       "      <th>0</th>\n",
       "      <td>Australia</td>\n",
       "      <td>15</td>\n",
       "      <td>15</td>\n",
       "      <td>121</td>\n",
       "    </tr>\n",
       "    <tr>\n",
       "      <th>1</th>\n",
       "      <td>India</td>\n",
       "      <td>1,812</td>\n",
       "      <td>1,812</td>\n",
       "      <td>119</td>\n",
       "    </tr>\n",
       "    <tr>\n",
       "      <th>2</th>\n",
       "      <td>England</td>\n",
       "      <td>14</td>\n",
       "      <td>14</td>\n",
       "      <td>110</td>\n",
       "    </tr>\n",
       "    <tr>\n",
       "      <th>3</th>\n",
       "      <td>South Africa</td>\n",
       "      <td>1,670</td>\n",
       "      <td>1,670</td>\n",
       "      <td>92</td>\n",
       "    </tr>\n",
       "    <tr>\n",
       "      <th>4</th>\n",
       "      <td>New Zealand</td>\n",
       "      <td>19</td>\n",
       "      <td>19</td>\n",
       "      <td>85</td>\n",
       "    </tr>\n",
       "    <tr>\n",
       "      <th>5</th>\n",
       "      <td>West Indies</td>\n",
       "      <td>2,090</td>\n",
       "      <td>2,090</td>\n",
       "      <td>73</td>\n",
       "    </tr>\n",
       "    <tr>\n",
       "      <th>6</th>\n",
       "      <td>Pakistan</td>\n",
       "      <td>15</td>\n",
       "      <td>15</td>\n",
       "      <td>61</td>\n",
       "    </tr>\n",
       "    <tr>\n",
       "      <th>7</th>\n",
       "      <td>Bangladesh</td>\n",
       "      <td>1,384</td>\n",
       "      <td>1,384</td>\n",
       "      <td>47</td>\n",
       "    </tr>\n",
       "    <tr>\n",
       "      <th>8</th>\n",
       "      <td>Sri Lanka</td>\n",
       "      <td>12</td>\n",
       "      <td>12</td>\n",
       "      <td>13</td>\n",
       "    </tr>\n",
       "    <tr>\n",
       "      <th>9</th>\n",
       "      <td>Ireland</td>\n",
       "      <td>1,025</td>\n",
       "      <td>1,025</td>\n",
       "      <td>121</td>\n",
       "    </tr>\n",
       "  </tbody>\n",
       "</table>\n",
       "</div>"
      ],
      "text/plain": [
       "           team records points rating\n",
       "0     Australia      15     15    121\n",
       "1         India   1,812  1,812    119\n",
       "2       England      14     14    110\n",
       "3  South Africa   1,670  1,670     92\n",
       "4   New Zealand      19     19     85\n",
       "5   West Indies   2,090  2,090     73\n",
       "6      Pakistan      15     15     61\n",
       "7    Bangladesh   1,384  1,384     47\n",
       "8     Sri Lanka      12     12     13\n",
       "9       Ireland   1,025  1,025    121"
      ]
     },
     "execution_count": 922,
     "metadata": {},
     "output_type": "execute_result"
    }
   ],
   "source": [
    "ICC_womens"
   ]
  },
  {
   "cell_type": "markdown",
   "metadata": {},
   "source": [
    " ii)Top 10 women’s ODI players along with the records of their team and rating."
   ]
  },
  {
   "cell_type": "code",
   "execution_count": 923,
   "metadata": {},
   "outputs": [],
   "source": [
    "page=requests.get(\"https://www.icc-cricket.com/rankings/womens/player-rankings/odi\")"
   ]
  },
  {
   "cell_type": "code",
   "execution_count": 924,
   "metadata": {},
   "outputs": [],
   "source": [
    "soup=BeautifulSoup(page.content,'html.parser')"
   ]
  },
  {
   "cell_type": "code",
   "execution_count": 925,
   "metadata": {},
   "outputs": [],
   "source": [
    "Player=[]\n",
    "Team=[]\n",
    "Rating=[]"
   ]
  },
  {
   "cell_type": "code",
   "execution_count": 926,
   "metadata": {},
   "outputs": [],
   "source": [
    "player=soup.find_all('td',class_=\"table-body__cell name\")\n",
    "player[0:3]\n",
    "for i in player:\n",
    "    Player.append(i.get_text().replace('\\n',''))\n",
    "    Player[0:3]"
   ]
  },
  {
   "cell_type": "code",
   "execution_count": 927,
   "metadata": {},
   "outputs": [],
   "source": [
    "team=soup.find_all('span',class_=\"table-body__logo-text\")\n",
    "team[0:3]\n",
    "for i in team:\n",
    "    Team.append(i.get_text())\n",
    "    Team[0:3]"
   ]
  },
  {
   "cell_type": "code",
   "execution_count": 928,
   "metadata": {},
   "outputs": [],
   "source": [
    "rating=soup.find_all('td',class_=\"table-body__cell u-text-right rating\")\n",
    "rating[0:3]\n",
    "for i in rating:\n",
    "    Rating.append(i.get_text())\n",
    "    Rating[0:3]"
   ]
  },
  {
   "cell_type": "code",
   "execution_count": 929,
   "metadata": {},
   "outputs": [],
   "source": [
    "import pandas as pd\n",
    "ICC_womensplayer=pd.DataFrame({})\n",
    "ICC_womensplayer['player']=Player[:10]\n",
    "ICC_womensplayer['team']=Team[:10]\n",
    "ICC_womensplayer['rating']=Rating[:10]"
   ]
  },
  {
   "cell_type": "code",
   "execution_count": 930,
   "metadata": {},
   "outputs": [
    {
     "data": {
      "text/html": [
       "<div>\n",
       "<style scoped>\n",
       "    .dataframe tbody tr th:only-of-type {\n",
       "        vertical-align: middle;\n",
       "    }\n",
       "\n",
       "    .dataframe tbody tr th {\n",
       "        vertical-align: top;\n",
       "    }\n",
       "\n",
       "    .dataframe thead th {\n",
       "        text-align: right;\n",
       "    }\n",
       "</style>\n",
       "<table border=\"1\" class=\"dataframe\">\n",
       "  <thead>\n",
       "    <tr style=\"text-align: right;\">\n",
       "      <th></th>\n",
       "      <th>player</th>\n",
       "      <th>team</th>\n",
       "      <th>rating</th>\n",
       "    </tr>\n",
       "  </thead>\n",
       "  <tbody>\n",
       "    <tr>\n",
       "      <th>0</th>\n",
       "      <td>Stafanie Taylor</td>\n",
       "      <td>WI</td>\n",
       "      <td>746</td>\n",
       "    </tr>\n",
       "    <tr>\n",
       "      <th>1</th>\n",
       "      <td>Alyssa Healy</td>\n",
       "      <td>AUS</td>\n",
       "      <td>741</td>\n",
       "    </tr>\n",
       "    <tr>\n",
       "      <th>2</th>\n",
       "      <td>Smriti Mandhana</td>\n",
       "      <td>IND</td>\n",
       "      <td>732</td>\n",
       "    </tr>\n",
       "    <tr>\n",
       "      <th>3</th>\n",
       "      <td>Amy Satterthwaite</td>\n",
       "      <td>NZ</td>\n",
       "      <td>723</td>\n",
       "    </tr>\n",
       "    <tr>\n",
       "      <th>4</th>\n",
       "      <td>Tammy Beaumont</td>\n",
       "      <td>ENG</td>\n",
       "      <td>716</td>\n",
       "    </tr>\n",
       "    <tr>\n",
       "      <th>5</th>\n",
       "      <td>Laura Wolvaardt</td>\n",
       "      <td>SA</td>\n",
       "      <td>691</td>\n",
       "    </tr>\n",
       "    <tr>\n",
       "      <th>6</th>\n",
       "      <td>Ellyse Perry</td>\n",
       "      <td>AUS</td>\n",
       "      <td>691</td>\n",
       "    </tr>\n",
       "    <tr>\n",
       "      <th>7</th>\n",
       "      <td>Mithali Raj</td>\n",
       "      <td>IND</td>\n",
       "      <td>687</td>\n",
       "    </tr>\n",
       "    <tr>\n",
       "      <th>8</th>\n",
       "      <td>Lizelle Lee</td>\n",
       "      <td>SA</td>\n",
       "      <td>681</td>\n",
       "    </tr>\n",
       "    <tr>\n",
       "      <th>9</th>\n",
       "      <td>Megan Schutt</td>\n",
       "      <td>AUS</td>\n",
       "      <td>735</td>\n",
       "    </tr>\n",
       "  </tbody>\n",
       "</table>\n",
       "</div>"
      ],
      "text/plain": [
       "              player team rating\n",
       "0    Stafanie Taylor   WI    746\n",
       "1       Alyssa Healy  AUS    741\n",
       "2    Smriti Mandhana  IND    732\n",
       "3  Amy Satterthwaite   NZ    723\n",
       "4     Tammy Beaumont  ENG    716\n",
       "5    Laura Wolvaardt   SA    691\n",
       "6       Ellyse Perry  AUS    691\n",
       "7        Mithali Raj  IND    687\n",
       "8        Lizelle Lee   SA    681\n",
       "9       Megan Schutt  AUS    735"
      ]
     },
     "execution_count": 930,
     "metadata": {},
     "output_type": "execute_result"
    }
   ],
   "source": [
    "ICC_womensplayer"
   ]
  },
  {
   "cell_type": "markdown",
   "metadata": {},
   "source": [
    " iii) Top 10 women’s ODI all-rounder along with the records of their team and rating."
   ]
  },
  {
   "cell_type": "code",
   "execution_count": 931,
   "metadata": {},
   "outputs": [],
   "source": [
    "All_rounder=[]\n",
    "Team=[]\n",
    "Rating=[]"
   ]
  },
  {
   "cell_type": "code",
   "execution_count": 932,
   "metadata": {},
   "outputs": [],
   "source": [
    "allrounder=soup.find_all('td',class_=\"table-body__cell name\")\n",
    "allrounder[0:3]\n",
    "for i in allrounder:\n",
    "    All_rounder.append(i.get_text().replace('\\n',''))\n",
    "    All_rounder[0:3]"
   ]
  },
  {
   "cell_type": "code",
   "execution_count": 933,
   "metadata": {},
   "outputs": [],
   "source": [
    "team=soup.find_all('span',class_=\"table-body__logo-text\")\n",
    "team[0:3]\n",
    "for i in team:\n",
    "    Team.append(i.get_text())\n",
    "    Team[0:3]"
   ]
  },
  {
   "cell_type": "code",
   "execution_count": 934,
   "metadata": {},
   "outputs": [],
   "source": [
    "rating=soup.find_all('td',class_=\"table-body__cell u-text-right rating\")\n",
    "rating[0:3]\n",
    "for i in rating:\n",
    "    Rating.append(i.get_text())\n",
    "    Rating[0:3]"
   ]
  },
  {
   "cell_type": "code",
   "execution_count": 935,
   "metadata": {},
   "outputs": [],
   "source": [
    "import pandas as pd\n",
    "ICC_womensplayer=pd.DataFrame({})\n",
    "ICC_womensplayer['player']=Player[:10]\n",
    "ICC_womensplayer['team']=Team[:10]\n",
    "ICC_womensplayer['rating']=Rating[:10]"
   ]
  },
  {
   "cell_type": "markdown",
   "metadata": {},
   "source": [
    "# 7) Write a python program to scrape details of all the mobile phones under Rs. 20,000 listed on Amazon.in. The scraped data should include Product Name, Price, Image URL and Average Rating."
   ]
  },
  {
   "cell_type": "code",
   "execution_count": 936,
   "metadata": {},
   "outputs": [],
   "source": [
    "import pandas as pd\n",
    "import numpy as np\n",
    "import requests\n",
    "from requests import get\n",
    "from bs4 import BeautifulSoup"
   ]
  },
  {
   "cell_type": "code",
   "execution_count": 937,
   "metadata": {},
   "outputs": [],
   "source": [
    "page=requests.get(\"https://www.amazon.in/s?k=all+mobile+phones+under+20000&crid=1GWM57F9A1MN4&sprefix=all+mobile+phones+under%2Caps%2C305&ref=nb_sb_ss_ts-doa-p_3_23\")"
   ]
  },
  {
   "cell_type": "code",
   "execution_count": 938,
   "metadata": {},
   "outputs": [],
   "source": [
    "soup=BeautifulSoup(page.content,'html.parser')"
   ]
  },
  {
   "cell_type": "code",
   "execution_count": 939,
   "metadata": {},
   "outputs": [],
   "source": [
    "Product_name=[]\n",
    "Price=[]\n",
    "Image_URL=[]\n",
    "Rating=[]"
   ]
  },
  {
   "cell_type": "code",
   "execution_count": 940,
   "metadata": {},
   "outputs": [
    {
     "data": {
      "text/plain": [
       "[]"
      ]
     },
     "execution_count": 940,
     "metadata": {},
     "output_type": "execute_result"
    }
   ],
   "source": [
    "product=soup.find_all('div',class_=\"a-section a-spacing-none\")\n",
    "product[0:4]"
   ]
  },
  {
   "cell_type": "code",
   "execution_count": 941,
   "metadata": {},
   "outputs": [],
   "source": [
    "for i in product:\n",
    "    Product_name.append(i.get_text())\n",
    "    Product_name[0:4]"
   ]
  },
  {
   "cell_type": "code",
   "execution_count": 942,
   "metadata": {},
   "outputs": [
    {
     "name": "stdout",
     "output_type": "stream",
     "text": [
      "0\n"
     ]
    }
   ],
   "source": [
    "print(len( Product_name))"
   ]
  },
  {
   "cell_type": "code",
   "execution_count": 943,
   "metadata": {},
   "outputs": [
    {
     "data": {
      "text/plain": [
       "[]"
      ]
     },
     "execution_count": 943,
     "metadata": {},
     "output_type": "execute_result"
    }
   ],
   "source": [
    "price=soup.find_all('span',class_=\"a-price-whole\")\n",
    "price[0:4]"
   ]
  },
  {
   "cell_type": "code",
   "execution_count": 944,
   "metadata": {},
   "outputs": [],
   "source": [
    "for i in price:\n",
    "    Price.append(i.get_text())\n",
    "    Price[0:4]"
   ]
  },
  {
   "cell_type": "code",
   "execution_count": 945,
   "metadata": {},
   "outputs": [
    {
     "name": "stdout",
     "output_type": "stream",
     "text": [
      "0\n"
     ]
    }
   ],
   "source": [
    "print(len( Price))"
   ]
  },
  {
   "cell_type": "code",
   "execution_count": null,
   "metadata": {},
   "outputs": [],
   "source": []
  },
  {
   "cell_type": "code",
   "execution_count": null,
   "metadata": {},
   "outputs": [],
   "source": []
  },
  {
   "cell_type": "code",
   "execution_count": null,
   "metadata": {},
   "outputs": [],
   "source": []
  }
 ],
 "metadata": {
  "kernelspec": {
   "display_name": "Python 3",
   "language": "python",
   "name": "python3"
  },
  "language_info": {
   "codemirror_mode": {
    "name": "ipython",
    "version": 3
   },
   "file_extension": ".py",
   "mimetype": "text/x-python",
   "name": "python",
   "nbconvert_exporter": "python",
   "pygments_lexer": "ipython3",
   "version": "3.8.3"
  }
 },
 "nbformat": 4,
 "nbformat_minor": 4
}
